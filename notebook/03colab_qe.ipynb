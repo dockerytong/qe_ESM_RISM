{
 "cells": [
  {
   "cell_type": "code",
   "execution_count": null,
   "id": "e91e9ad3-693c-4f81-bc47-05333b9a9a31",
   "metadata": {},
   "outputs": [],
   "source": [
    "!git clone https://github.com/minoru-otani/q-e.git\n",
    "%cd q-e\n",
    "!DFLAGS='-D__FFTW3 -D__MPI' FFT_LIBS='-lfftw3 -lfftw3_omp' ./configure --enable-openmp\n",
    "!make pw"
   ]
  }
 ],
 "metadata": {
  "kernelspec": {
   "display_name": "Python 3 (ipykernel)",
   "language": "python",
   "name": "python3"
  },
  "language_info": {
   "codemirror_mode": {
    "name": "ipython",
    "version": 3
   },
   "file_extension": ".py",
   "mimetype": "text/x-python",
   "name": "python",
   "nbconvert_exporter": "python",
   "pygments_lexer": "ipython3",
   "version": "3.9.6"
  }
 },
 "nbformat": 4,
 "nbformat_minor": 5
}
