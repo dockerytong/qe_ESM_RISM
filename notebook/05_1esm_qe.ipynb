{
 "cells": [
  {
   "cell_type": "markdown",
   "id": "d30ab671",
   "metadata": {},
   "source": [
    "# ESM計算を行う"
   ]
  },
  {
   "cell_type": "code",
   "execution_count": null,
   "id": "f00e27e9",
   "metadata": {},
   "outputs": [],
   "source": [
    "%matplotlib inline\n",
    "%config InlineBackend.figure_format = 'retina'\n",
    "%load_ext autoreload\n",
    "%autoreload 2"
   ]
  },
  {
   "cell_type": "code",
   "execution_count": null,
   "id": "e5de9047",
   "metadata": {
    "tags": []
   },
   "outputs": [],
   "source": [
    "import os\n",
    "import copy\n",
    "import importlib\n",
    "import requests"
   ]
  },
  {
   "cell_type": "markdown",
   "id": "a9d55a9a-2afe-4376-a406-af2c92baac4b",
   "metadata": {},
   "source": [
    "## 準備"
   ]
  },
  {
   "cell_type": "markdown",
   "id": "22e03c31-f0b3-4920-8917-7ecae126a343",
   "metadata": {},
   "source": [
    "Google Driveをマウントする。"
   ]
  },
  {
   "cell_type": "code",
   "execution_count": null,
   "id": "3dd37439-509b-4c8e-8be9-06ec703a2dbb",
   "metadata": {},
   "outputs": [],
   "source": [
    "from google.colab import drive\n",
    "drive.mount('/content/drive')"
   ]
  },
  {
   "cell_type": "markdown",
   "id": "f460ea30-93f1-4c30-9d31-c7532103516d",
   "metadata": {},
   "source": [
    "QEのファイル一式を取ってくる。"
   ]
  },
  {
   "cell_type": "code",
   "execution_count": null,
   "id": "3b7fd14e-96fa-4bc0-b1ff-63a3cfa516e4",
   "metadata": {},
   "outputs": [],
   "source": [
    "if not os.path.exists(\"/content/q-e/\"):\n",
    "    %cd /content/\n",
    "    !unzip /content/drive/MyDrive/q-e.zip"
   ]
  },
  {
   "cell_type": "markdown",
   "id": "01730157",
   "metadata": {},
   "source": [
    "パスを設定"
   ]
  },
  {
   "cell_type": "code",
   "execution_count": null,
   "id": "ec92c56f",
   "metadata": {},
   "outputs": [],
   "source": [
    "os.environ['PATH'] = \"/content/q-e/bin:\"+os.environ['PATH']\n",
    "os.environ['ASE_ESPRESSO_COMMAND'] = \"mpirun --allow-run-as-root -np 4 pw.x -in PREFIX.pwi > PREFIX.pwo\"\n",
    "qef_pseudo = 'http://www.quantum-espresso.org/wp-content/uploads/upf_files/'\n",
    "pseudo_dir = \"/content/q-e/pseudo/\""
   ]
  },
  {
   "cell_type": "markdown",
   "id": "e98b0507",
   "metadata": {
    "jp-MarkdownHeadingCollapsed": true,
    "tags": []
   },
   "source": [
    "擬ポテンシャルがなければを取ってくる。"
   ]
  },
  {
   "cell_type": "code",
   "execution_count": null,
   "id": "f34e75fd",
   "metadata": {
    "tags": []
   },
   "outputs": [],
   "source": [
    "pseudopotentials = {'Al':'Al.pbe-n-van.UPF'}\n",
    "for v in pseudopotentials.values():\n",
    "    local_file = pseudo_dir + v\n",
    "    if not os.path.isfile(local_file):\n",
    "        remote_url = qef_pseudo + v\n",
    "        res = requests.get(remote_url)\n",
    "        try:\n",
    "            res.raise_for_status()\n",
    "        except Exception as exc:\n",
    "            print('Something went wrong: {}'.format(exc))\n",
    "        play_file = open(local_file, 'wb')\n",
    "        for chunk in res.iter_content(100000):\n",
    "            play_file.write(chunk)"
   ]
  },
  {
   "cell_type": "markdown",
   "id": "51b3bfa6",
   "metadata": {},
   "source": [
    "## Al(100)のスラブモデル"
   ]
  },
  {
   "cell_type": "markdown",
   "id": "abc5ca55-1022-4320-92f5-f48fd78a55e1",
   "metadata": {},
   "source": [
    "ASEを使ってスラブモデルを作成する。"
   ]
  },
  {
   "cell_type": "code",
   "execution_count": null,
   "id": "24c0e416",
   "metadata": {},
   "outputs": [],
   "source": [
    "lvac = 8.0\n",
    "rvac = 10.0\n",
    "vac = (lvac + rvac)/2.0\n",
    "slab = fcc100('Al', size=(1,1,2), vacuum=vac)\n",
    "slab.wrap() # wrap extended atoms into a unit cell.\n",
    "slab.translate((0.0,0.0,(lvac-rvac)/2.0))\n",
    "fig, ax = plt.subplots(1,2, figsize=(12, 6))\n",
    "ax[0].set_axis_off()\n",
    "ax[1].set_axis_off()\n",
    "plot_atoms(slab, ax[0], radii=1.0, rotation=('0x,0y,0z'))\n",
    "plot_atoms(slab, ax[1], radii=1.0, rotation=('90x,90y,90z'))\n",
    "plt.show()"
   ]
  },
  {
   "cell_type": "markdown",
   "id": "29098365",
   "metadata": {},
   "source": [
    "ESM計算用にスラブの位置をずらす"
   ]
  },
  {
   "cell_type": "code",
   "execution_count": null,
   "id": "6a56c07d-883c-4bae-b110-7aaebf63c297",
   "metadata": {},
   "outputs": [],
   "source": [
    "slab_ESM = copy.deepcopy(slab)\n",
    "slab_ESM.translate((0.0,0.0,-slab.cell[2,2]/2.0)) # shift atoms to fit ESM/ESM-RISM model"
   ]
  },
  {
   "cell_type": "markdown",
   "id": "9b5d1e52-9795-49ea-bbb7-f7c1a806a1fd",
   "metadata": {
    "tags": []
   },
   "source": [
    "スラブが意図した通り作成できているかを```slab_ESM```の中身を見て確認する。"
   ]
  },
  {
   "cell_type": "code",
   "execution_count": null,
   "id": "74143885-d82b-44bc-9f8a-8fcb2b54d277",
   "metadata": {},
   "outputs": [],
   "source": [
    "aobj = slab_ESM\n",
    "print(f' Unit cell: a = ({aobj.cell[0,0]:9.5f}, {aobj.cell[0,1]:9.5f}, {aobj.cell[0,2]:9.5f})')\n",
    "print(f'            b = ({aobj.cell[1,0]:9.5f}, {aobj.cell[1,1]:9.5f}, {aobj.cell[1,2]:9.5f})')\n",
    "print(f'            c = ({aobj.cell[2,0]:9.5f}, {aobj.cell[2,1]:9.5f}, {aobj.cell[2,2]:9.5f})')\n",
    "print(f' Number of atoms: {len(aobj.positions):5d}')\n",
    "print(f' Species, Positions:')\n",
    "for i in range(len(aobj.positions)):\n",
    "    print(f'  \\'{aobj.symbols[i]:<2}\\' ({aobj.positions[i,0]:9.5f}, {aobj.positions[i,1]:9.5f}, {aobj.positions[i,2]:9.5f})')"
   ]
  },
  {
   "cell_type": "markdown",
   "id": "21469e9d",
   "metadata": {},
   "source": [
    "計算を実行する。"
   ]
  },
  {
   "cell_type": "code",
   "execution_count": null,
   "id": "0463481c",
   "metadata": {},
   "outputs": [],
   "source": [
    "input_data = {\n",
    "    'control': {\n",
    "        'calculation': 'scf',\n",
    "        'restart_mode': 'from_scratch',\n",
    "        'prefix': 'Al100_bc2',\n",
    "        'disk_io': 'low'\n",
    "    },\n",
    "    'system': {\n",
    "        'ibrav': 0,\n",
    "        'ecutwfc': 20,\n",
    "        'ecutrho': 160,\n",
    "        'occupations' : 'smearing',\n",
    "        'smearing':'mp',\n",
    "        'degauss' : 0.03,\n",
    "        'assume_isolated': 'esm',\n",
    "        'esm_bc': 'bc1'\n",
    "    },\n",
    "    'electrons': {\n",
    "        'mixing_beta': 0.3\n",
    "    }\n",
    "}\n",
    "\n",
    "calc = Espresso(pseudo_dir=pseudo_dir,\n",
    "                pseudopotentials=pseudopotentials,\n",
    "                kpts=(16, 16, 1),\n",
    "                koffset=(1, 1, 0),\n",
    "                input_data=input_data)\n",
    "slab_ESM.set_calculator(calc)\n",
    "\n",
    "slab_ESM.get_potential_energy()\n",
    "fermi_level = calc.get_fermi_level()\n",
    "print(fermi_level)"
   ]
  },
  {
   "cell_type": "code",
   "execution_count": null,
   "id": "f18d4a1a-2b45-4ca0-8ed4-765b7e1030cf",
   "metadata": {},
   "outputs": [],
   "source": []
  }
 ],
 "metadata": {
  "interpreter": {
   "hash": "aee8b7b246df8f9039afb4144a1f6fd8d2ca17a180786b69acc140d282b71a49"
  },
  "kernelspec": {
   "display_name": "Python 3 (ipykernel)",
   "language": "python",
   "name": "python3"
  },
  "language_info": {
   "codemirror_mode": {
    "name": "ipython",
    "version": 3
   },
   "file_extension": ".py",
   "mimetype": "text/x-python",
   "name": "python",
   "nbconvert_exporter": "python",
   "pygments_lexer": "ipython3",
   "version": "3.9.7"
  }
 },
 "nbformat": 4,
 "nbformat_minor": 5
}
