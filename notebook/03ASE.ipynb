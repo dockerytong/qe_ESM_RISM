{
 "cells": [
  {
   "cell_type": "markdown",
   "id": "9f821ef9",
   "metadata": {
    "tags": []
   },
   "source": [
    "# ASEを使ってQE用の構造モデルを作成する"
   ]
  },
  {
   "cell_type": "code",
   "execution_count": null,
   "id": "1c65b944",
   "metadata": {},
   "outputs": [],
   "source": [
    "%matplotlib inline\n",
    "%config InlineBackend.figure_format = 'retina'\n",
    "%load_ext autoreload\n",
    "%autoreload 2"
   ]
  },
  {
   "cell_type": "code",
   "execution_count": null,
   "id": "7c46c058",
   "metadata": {},
   "outputs": [],
   "source": [
    "import importlib\n",
    "if importlib.util.find_spec(\"ase\") is None:\n",
    "    !pip install git+https://github.com/minoru-otani/ase.git@qe_rism"
   ]
  },
  {
   "cell_type": "code",
   "execution_count": null,
   "id": "82894d61",
   "metadata": {},
   "outputs": [],
   "source": [
    "import matplotlib.pyplot as plt\n",
    "from ase import Atoms\n",
    "from ase.io import read, write\n",
    "from ase.visualize import view\n",
    "from ase.visualize.plot import plot_atoms\n",
    "from ase.constraints import FixAtoms\n",
    "from ase.io.cube import read_cube_data\n",
    "from ase.build import fcc111, graphene, add_adsorbate, molecule\n",
    "from ase.geometry import wrap_positions"
   ]
  },
  {
   "cell_type": "markdown",
   "id": "8325fd6a",
   "metadata": {
    "tags": []
   },
   "source": [
    "## Slabモデルを作成する\n",
    "\n",
    "ASEにはあらかじめ典型的な表面構造を作る関数が用意されている。用意されている構造をリストする。詳しくは[ase.build.surface](https://wiki.fysik.dtu.dk/ase/_modules/ase/build/surface.html)を参照。\n",
    "\n",
    "||||||||\n",
    "|---|---|---|---|---|---|---| \n",
    "|Surface|fcc(100)|fcc(110)|fcc(111)|bcc(100)|bcc(110)|bcc(111)|\n",
    "|Adsorption site|ontop, bridge<br>hollow|ontop, longbridge<br>shortbridge, hollow|ontop, bridge<br>fcc, hcp|ontop, bridge<br>hollow|ontop, longbridge<br>shortbridge, hollow|ontop|\n",
    "|Surface|hcp(0001)|hcp(10$\\bar{1}$0)|diamond(111)|diamond(100)|mx2|graphene|\n",
    "|Adsorption site|ontop, bridge<br>fcc, hcp|ontop|ontop|ontop|||"
   ]
  },
  {
   "cell_type": "markdown",
   "id": "f3a9f5e6-6e84-4a37-955a-a81e7466073b",
   "metadata": {},
   "source": [
    "### 吸着サイトの情報を見る\n",
    "\n",
    "吸着サイトの指定の仕方は二通りある：```ontop```などのキーワードを与える方法と、$(x,y)$を直接与える方法である。各表面構造関数が持っている吸着サイトは以下のように調べることができる。例として```fcc(111)```表面に用意されている吸着サイトを表示してみる。"
   ]
  },
  {
   "cell_type": "code",
   "execution_count": null,
   "id": "c1da4610-412b-4e04-b3af-85dbf6f54058",
   "metadata": {},
   "outputs": [],
   "source": [
    "slab = fcc111('Cu', size=(1,1,5), vacuum=10.0)\n",
    "slab.info.get('adsorbate_info', {})"
   ]
  },
  {
   "cell_type": "markdown",
   "id": "cace6aef-c01e-4d32-8882-cf2bd73c3b82",
   "metadata": {},
   "source": [
    "このように、```ontop, bridge, fcc```および```hcp```サイトがあることが分かる。もし、あらかじめ用意されている吸着サイトがない場合は何も表示されない。"
   ]
  },
  {
   "cell_type": "code",
   "execution_count": null,
   "id": "a18bc4b3-a832-4fd4-a764-2cbca721585b",
   "metadata": {},
   "outputs": [],
   "source": [
    "slab = graphene(formula='C2', size=(1,1,1), vacuum=10.0)\n",
    "slab.info.get('adsorbate_info', {})"
   ]
  },
  {
   "cell_type": "markdown",
   "id": "4ff10fb3-6722-49d1-b4cd-d78a194915c6",
   "metadata": {},
   "source": [
    "このような場合は、直接$xy$座標を指定して吸着サイトを指定する必要がある。（詳しくは下で説明します。）"
   ]
  },
  {
   "cell_type": "markdown",
   "id": "8d6ac749",
   "metadata": {},
   "source": [
    "### fcc金属の例"
   ]
  },
  {
   "cell_type": "code",
   "execution_count": null,
   "id": "479c9def",
   "metadata": {},
   "outputs": [],
   "source": [
    "lvac = 8.0 # 左側の真空の厚み\n",
    "rvac = 10.0 # 右側の真空の厚み\n",
    "vac = (lvac + rvac)/2.0 # 表面構造関数には真空の左右の真空の厚みの半分を渡す\n",
    "slab = fcc111('Cu', size=(4,4,2), vacuum=vac)\n",
    "slab.wrap() # 普通に作ると、ユニットセルをはみ出す原子があるので、ユニットセル内にwrapする。\n",
    "slab.translate((0.0,0.0,(lvac-rvac)/2.0)) # lvac, rvacを反映した位置にずらす\n",
    "fig, ax = plt.subplots(1,2, figsize=(12, 6))\n",
    "ax[0].set_axis_off()\n",
    "ax[1].set_axis_off()\n",
    "plot_atoms(slab, ax[0], radii=1.0, rotation=('0x,0y,0z'))\n",
    "plot_atoms(slab, ax[1], radii=1.0, rotation=('90x,90y,90z'))\n",
    "#view(slab, viewer='ngl')\n",
    "plt.show()"
   ]
  },
  {
   "cell_type": "markdown",
   "id": "a46d8744",
   "metadata": {
    "tags": []
   },
   "source": [
    "スラブの中身を確認する。"
   ]
  },
  {
   "cell_type": "code",
   "execution_count": null,
   "id": "1c5c965d",
   "metadata": {},
   "outputs": [],
   "source": [
    "aobj = slab\n",
    "print(f' Unit cell: a = ({aobj.cell[0,0]:9.5f}, {aobj.cell[0,1]:9.5f}, {aobj.cell[0,2]:9.5f})')\n",
    "print(f'            b = ({aobj.cell[1,0]:9.5f}, {aobj.cell[1,1]:9.5f}, {aobj.cell[1,2]:9.5f})')\n",
    "print(f'            c = ({aobj.cell[2,0]:9.5f}, {aobj.cell[2,1]:9.5f}, {aobj.cell[2,2]:9.5f})')\n",
    "print(f' Number of atoms: {len(aobj.positions):5d}')\n",
    "print(f' Species, Positions:')\n",
    "for i in range(len(aobj.positions)):\n",
    "    print(f'  \\'{aobj.symbols[i]:<2}\\' ({aobj.positions[i,0]:9.5f}, {aobj.positions[i,1]:9.5f}, {aobj.positions[i,2]:9.5f})')\n",
    "    "
   ]
  },
  {
   "cell_type": "markdown",
   "id": "579b6037",
   "metadata": {},
   "source": [
    "### 分子吸着を考えるために分子を用意する"
   ]
  },
  {
   "cell_type": "code",
   "execution_count": null,
   "id": "3c32e542",
   "metadata": {},
   "outputs": [],
   "source": [
    "atoms = molecule('CO2')\n",
    "fig, ax = plt.subplots(1,1, figsize=(3,1.5))\n",
    "ax.set_axis_off()\n",
    "plot_atoms(atoms, ax, radii=1.0, rotation=('0x,90y,0z'))\n",
    "plt.show()\n",
    "#view(atoms, viewer='ngl')"
   ]
  },
  {
   "cell_type": "code",
   "execution_count": null,
   "id": "e0f0527a",
   "metadata": {},
   "outputs": [],
   "source": [
    "atoms = molecule('H2O')\n",
    "fig, ax = plt.subplots(1,1, figsize=(3,1.5))\n",
    "ax.set_axis_off()\n",
    "plot_atoms(atoms, ax, radii=1.0, rotation=('0x,0y,0z'))\n",
    "plt.show()"
   ]
  },
  {
   "cell_type": "markdown",
   "id": "b9c42c9c",
   "metadata": {},
   "source": [
    "### 分子を表面に置く"
   ]
  },
  {
   "cell_type": "code",
   "execution_count": null,
   "id": "571ecd8e",
   "metadata": {},
   "outputs": [],
   "source": [
    "atoms = molecule('H2O')\n",
    "atoms.rotate(180, 'x', center=(0,0,0)) # make o-down orientation\n",
    "slab = fcc111('Cu', size=(2,2,2), vacuum=20.0)\n",
    "slab.wrap() # wrap extended atoms into a unit cell.\n",
    "add_adsorbate(slab,atoms,height=5.0, position='ontop', mol_index=0)\n",
    "#positions = wrap_positions(positions=slab.positions, cell=slab.cell, pbc=slab.pbc, center=[0.5,0.5,0.0])\n",
    "#I want to shift the H2O molecule to the center of the unit cell. But I don't understand how to use wrap_positions\n",
    "fig, ax = plt.subplots(2,1, figsize=(12, 6))\n",
    "ax[0].set_axis_off()\n",
    "ax[1].set_axis_off()\n",
    "plot_atoms(slab, ax[0], radii=1.0, rotation=('0x,0y,0z'))\n",
    "plot_atoms(slab, ax[1], radii=1.0, rotation=('90x,90y,90z'))"
   ]
  },
  {
   "cell_type": "markdown",
   "id": "d185468e",
   "metadata": {
    "tags": []
   },
   "source": [
    "### ESM/ESM-RISM計算用にスラブをずらす"
   ]
  },
  {
   "cell_type": "code",
   "execution_count": null,
   "id": "c46319f3",
   "metadata": {},
   "outputs": [],
   "source": [
    "lvac = 10.0\n",
    "rvac = 10.0\n",
    "vac = (lvac + rvac)/2.0\n",
    "atoms = molecule('H2O')\n",
    "atoms.rotate(180, 'x', center=(0,0,0)) # make o-down orientation\n",
    "slab = fcc111('Cu', size=(2,2,2), vacuum=vac)\n",
    "slab.wrap() # wrap extended atoms into a unit cell.\n",
    "add_adsorbate(slab,atoms,height=5.0, position='ontop', mol_index=0)\n",
    "slab.translate((0.0,0.0,lvac - vac)) # shift atoms to have given vacuum thickness\n",
    "slab.translate((0.0,0.0,-slab.cell[2,2]/2.0)) # shift atoms to fit ESM/ESM-RISM model\n",
    "fig, ax = plt.subplots(1,1, figsize=(12, 6))\n",
    "ax.set_axis_off()\n",
    "plot_atoms(slab, ax, radii=1.0, rotation=('90x,90y,90z'))"
   ]
  },
  {
   "cell_type": "markdown",
   "id": "d9d2003c",
   "metadata": {
    "tags": []
   },
   "source": [
    "原子座標などを確認する。"
   ]
  },
  {
   "cell_type": "code",
   "execution_count": null,
   "id": "7e35333d",
   "metadata": {},
   "outputs": [],
   "source": [
    "print('Unit cell:')\n",
    "print(slab.cell[:])\n",
    "print('Unit cell size along z-axis: {} A'.format(slab.cell[2,2]))\n",
    "print('Atom positions:')\n",
    "print(slab.positions[:])"
   ]
  },
  {
   "cell_type": "markdown",
   "id": "e7b5393b",
   "metadata": {
    "tags": []
   },
   "source": [
    "# ESM-RISM用のインプットファイルを作成する。"
   ]
  },
  {
   "cell_type": "code",
   "execution_count": null,
   "id": "32640418",
   "metadata": {},
   "outputs": [],
   "source": [
    "pseudopotentials = {'Al':'Al.pbe-n-van.UPF'}\n",
    "input_data = {\n",
    "    'control': {\n",
    "        'calculation': 'scf',\n",
    "        'restart_mode': 'from_scratch',\n",
    "        'prefix': 'Al100_bc1',\n",
    "        'disk_io': 'low',\n",
    "        'lfcp': True,\n",
    "        'trism': True,\n",
    "    },\n",
    "    'system': {\n",
    "        'ibrav': 0,\n",
    "        'ecutwfc': 20,\n",
    "        'ecutrho': 160,\n",
    "        'occupations' : 'smearing',\n",
    "        'smearing':'mp',\n",
    "        'degauss' : 0.03,\n",
    "        'assume_isolated': 'esm',\n",
    "        'esm_bc': 'bc1'\n",
    "    },\n",
    "    'electrons': {\n",
    "        'mixing_beta': 0.3,\n",
    "        'diago_rmm_conv': False\n",
    "    },\n",
    "    'fcp': {\n",
    "        'fcp_mu': -3.5\n",
    "    }\n",
    "}\n",
    " \n",
    "solv_info={\n",
    "    'density_unit' : 'mol/L',\n",
    "    'H2O':[-1,   'H2O.spc.MOL'],\n",
    "    'Na+' :[1.00, 'Na+.oplsaa.MOL'],\n",
    "    'Cl-':[1.00, 'Cl-.oplsaa.MOL']\n",
    "} \n",
    "\n",
    "inpfile = 'test.in'\n",
    "write(inpfile, slab, format='espresso-in', input_data=input_data, \n",
    "      pseudopotentials=pseudopotentials, solvents_info=solv_info)"
   ]
  },
  {
   "cell_type": "markdown",
   "id": "c5dc5417",
   "metadata": {},
   "source": []
  }
 ],
 "metadata": {
  "kernelspec": {
   "display_name": "Python 3 (ipykernel)",
   "language": "python",
   "name": "python3"
  },
  "language_info": {
   "codemirror_mode": {
    "name": "ipython",
    "version": 3
   },
   "file_extension": ".py",
   "mimetype": "text/x-python",
   "name": "python",
   "nbconvert_exporter": "python",
   "pygments_lexer": "ipython3",
   "version": "3.9.7"
  }
 },
 "nbformat": 4,
 "nbformat_minor": 5
}
