{
 "cells": [
  {
   "cell_type": "markdown",
   "id": "1404e4c2-3582-4d11-9f97-63596244d8a5",
   "metadata": {
    "tags": []
   },
   "source": [
    "# 基本的なグラフの描画方法をマスターする"
   ]
  },
  {
   "cell_type": "code",
   "execution_count": null,
   "id": "68ba008d-40b4-4383-9c1f-9ed69b3ee95e",
   "metadata": {},
   "outputs": [],
   "source": [
    "%matplotlib inline\n",
    "%config InlineBackend.figure_format = 'retina'"
   ]
  },
  {
   "cell_type": "markdown",
   "id": "fc5889e7-a1a3-44f8-98d0-f9ada2f9c862",
   "metadata": {},
   "source": [
    "## グラフを描画\n",
    "\n",
    "$y=\\sin{\\alpha x}$\n",
    "\n",
    "を描画。($\\alpha=$1, 2, 3)\n",
    "\n",
    "### まずは描いてみる。"
   ]
  },
  {
   "cell_type": "code",
   "execution_count": null,
   "id": "afd38715-2432-49bb-b553-a979dee36dab",
   "metadata": {},
   "outputs": [],
   "source": [
    "import matplotlib.pyplot as plt\n",
    "import numpy as np\n",
    "# Figureのインスタンス(クラスの実態)を生成\n",
    "fig = plt.figure()\n",
    "# Axesのインスタンス生成\n",
    "ax = fig.add_subplot(111)\n",
    "alphas = [1,2,3]\n",
    "x = np.arange(0,2*np.pi,0.01)\n",
    "for alpha in alphas:\n",
    "    # データを渡してプロット\n",
    "    ax.plot(x,np.sin(alpha*x),label=str(alpha))\n",
    "# y軸の範囲を指定\n",
    "ax.set_ylim(-1.2, 1.2)\n",
    "# x軸の範囲を指定\n",
    "ax.set_xlim(0, 2*np.pi)\n",
    "# グラフのタイトル\n",
    "ax.set_title(\"$\\sin x$\")\n",
    "# x軸のラベル\n",
    "ax.set_xlabel(\"xlabel\")\n",
    "# y軸のラベル\n",
    "ax.set_ylabel(\"ylable\")\n",
    "# レジェンドの表示\n",
    "ax.legend(loc='upper right')\n",
    "# y=0の水平線を入れる\n",
    "ax.axhline(linewidth=1, color='black', linestyle='dashed')\n",
    "# タイトルとラベルが被らない様にする\n",
    "fig.tight_layout()\n",
    "\n",
    "plt.show()"
   ]
  },
  {
   "cell_type": "markdown",
   "id": "51aace48-34f7-48db-a599-439aae875670",
   "metadata": {},
   "source": [
    "### 並べてプロット\n",
    "\n",
    "その他、色々と調整する練習。"
   ]
  },
  {
   "cell_type": "code",
   "execution_count": null,
   "id": "4a519070-de08-4394-8f30-61e3fb16a0aa",
   "metadata": {},
   "outputs": [],
   "source": [
    "# 図の大きさや、解像度、周りの線の種類・太さを定義\n",
    "fig = plt.figure(\n",
    "    figsize=(6,4),     # inch\n",
    "#    dpi=100,           # dpi\n",
    "#    edgecolor='black', # edge color\n",
    "#    linewidth='4'      # line width\n",
    ")\n",
    "# １枚のグラフのサイズを定義\n",
    "fig.subplots_adjust(wspace=0.5, hspace=0.5)\n",
    "\n",
    "# タイトルを定義\n",
    "fig.suptitle('test plot')\n",
    "\n",
    "# 複数枚のグラフの並び方の定義。lmn=>l行、m列の並びでn番目の位置のグラフ\n",
    "ax1 = fig.add_subplot(221)\n",
    "ax2 = fig.add_subplot(222)\n",
    "ax3 = fig.add_subplot(223)\n",
    "ax4 = fig.add_subplot(224)\n",
    "\n",
    "x = np.arange(0,2*np.pi,0.01)\n",
    "ax1.plot(x,np.sin(1*x),label=str(1))\n",
    "ax2.plot(x,np.cos(1*x),label=str(2))\n",
    "ax3.plot(x,np.sin(2*x),label=str(3))\n",
    "ax4.plot(x,np.cos(2*x),label=str(4))\n",
    "# レジェンドを定義\n",
    "ax1.legend(loc='best')\n",
    "ax2.legend(loc='lower left')\n",
    "ax3.legend(loc='upper right')\n",
    "ax4.legend(loc='upper right')\n",
    "# x軸の範囲を定義\n",
    "ax1.set_xlim(0,2*np.pi)\n",
    "ax2.set_xlim(0,2*np.pi)\n",
    "ax3.set_xlim(0,2*np.pi)\n",
    "ax4.set_xlim(0,2*np.pi)\n",
    "# y=0の水平線を入れる\n",
    "ax1.axhline(linewidth=1, color='black', linestyle='dashed')\n",
    "ax2.axhline(linewidth=1, color='black', linestyle='dashed')\n",
    "ax3.axhline(linewidth=1, color='black', linestyle='dashed')\n",
    "ax4.axhline(linewidth=1, color='black', linestyle='dashed')\n",
    "# グラフのタイトル\n",
    "ax1.set_title(\"$\\sin x$\")\n",
    "ax2.set_title(\"$\\cos x$\")\n",
    "ax3.set_title(\"$\\sin 2x$\")\n",
    "ax4.set_title(\"$\\cos 2x$\")\n",
    "# x軸のラベル\n",
    "ax1.set_xlabel(\"xlabel\")\n",
    "ax2.set_xlabel(\"xlabel\")\n",
    "ax3.set_xlabel(\"xlabel\")\n",
    "ax4.set_xlabel(\"xlabel\")\n",
    "# y軸のラベル\n",
    "ax1.set_ylabel(\"ylabel\")\n",
    "ax2.set_ylabel(\"ylabel\")\n",
    "ax3.set_ylabel(\"ylabel\")\n",
    "ax4.set_ylabel(\"ylabel\")\n",
    "# タイトルとラベルが被らない様にする\n",
    "fig.tight_layout()\n",
    "\n",
    "plt.show()"
   ]
  }
 ],
 "metadata": {
  "kernelspec": {
   "display_name": "Python 3 (ipykernel)",
   "language": "python",
   "name": "python3"
  },
  "language_info": {
   "codemirror_mode": {
    "name": "ipython",
    "version": 3
   },
   "file_extension": ".py",
   "mimetype": "text/x-python",
   "name": "python",
   "nbconvert_exporter": "python",
   "pygments_lexer": "ipython3",
   "version": "3.9.7"
  }
 },
 "nbformat": 4,
 "nbformat_minor": 5
}
