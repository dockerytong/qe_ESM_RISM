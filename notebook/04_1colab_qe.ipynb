{
 "cells": [
  {
   "cell_type": "markdown",
   "id": "d30ab671",
   "metadata": {},
   "source": [
    "# Google Colaboratory上でQuantum ESPRESSO(QE)を用意する"
   ]
  },
  {
   "cell_type": "code",
   "execution_count": null,
   "id": "f00e27e9",
   "metadata": {},
   "outputs": [],
   "source": [
    "%matplotlib inline\n",
    "%config InlineBackend.figure_format = 'retina'\n",
    "%load_ext autoreload\n",
    "%autoreload 2"
   ]
  },
  {
   "cell_type": "markdown",
   "id": "1448fe97",
   "metadata": {},
   "source": [
    "## Quantum ESPRESSOをインストールする。"
   ]
  },
  {
   "cell_type": "code",
   "execution_count": null,
   "id": "76da27be",
   "metadata": {},
   "outputs": [],
   "source": [
    "!git clone https://github.com/minoru-otani/q-e.git\n",
    "!apt-get install -y libfftw3-3 libfftw3-dev libfftw3-doc\n",
    "%cd q-e\n",
    "!DFLAGS='-D__FFTW3 -D__MPI' FFT_LIBS='-lfftw3' ./configure\n",
    "!make pw pp"
   ]
  },
  {
   "cell_type": "markdown",
   "id": "01730157",
   "metadata": {},
   "source": [
    "### パスを設定"
   ]
  },
  {
   "cell_type": "code",
   "execution_count": null,
   "id": "ec92c56f",
   "metadata": {},
   "outputs": [],
   "source": [
    "import os\n",
    "os.environ['PATH'] = \"/content/q-e/bin:\"+os.environ['PATH']"
   ]
  }
 ],
 "metadata": {
  "interpreter": {
   "hash": "aee8b7b246df8f9039afb4144a1f6fd8d2ca17a180786b69acc140d282b71a49"
  },
  "kernelspec": {
   "display_name": "Python 3 (ipykernel)",
   "language": "python",
   "name": "python3"
  },
  "language_info": {
   "codemirror_mode": {
    "name": "ipython",
    "version": 3
   },
   "file_extension": ".py",
   "mimetype": "text/x-python",
   "name": "python",
   "nbconvert_exporter": "python",
   "pygments_lexer": "ipython3",
   "version": "3.9.7"
  }
 },
 "nbformat": 4,
 "nbformat_minor": 5
}
