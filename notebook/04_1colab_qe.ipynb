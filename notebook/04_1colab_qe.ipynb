{
 "cells": [
  {
   "cell_type": "markdown",
   "id": "d30ab671",
   "metadata": {},
   "source": [
    "# Google Colaboratory上でQuantum ESPRESSO(QE)を用意する"
   ]
  },
  {
   "cell_type": "code",
   "execution_count": null,
   "id": "f00e27e9",
   "metadata": {},
   "outputs": [],
   "source": [
    "%load_ext autoreload\n",
    "%autoreload 2"
   ]
  },
  {
   "cell_type": "code",
   "execution_count": null,
   "id": "40bf0633-c0ef-47af-8752-a198e4b7ec24",
   "metadata": {},
   "outputs": [],
   "source": [
    "import os\n",
    "import importlib"
   ]
  },
  {
   "cell_type": "markdown",
   "id": "a474a7bd-af2f-4aa1-830b-123e0ee6dfe5",
   "metadata": {
    "tags": []
   },
   "source": [
    "## QEを用意する"
   ]
  },
  {
   "cell_type": "markdown",
   "id": "c528c403-841e-4b85-a900-a709e1e18950",
   "metadata": {},
   "source": [
    "まず自分のgoogle driveをマウントする。（google accountが必要です。）"
   ]
  },
  {
   "cell_type": "code",
   "execution_count": null,
   "id": "a3ca9a51-b8d2-42c4-a429-e8a5b0aca7bc",
   "metadata": {},
   "outputs": [],
   "source": [
    "from google.colab import drive\n",
    "drive.mount('/content/drive')"
   ]
  },
  {
   "cell_type": "markdown",
   "id": "7e300485-2867-4fe9-ab1f-e2fc6d6cf8b0",
   "metadata": {},
   "source": [
    "既にコンパイルしたQEがある場合にはコピーする。ない場合にはダウンロードしてコンパイルすると同時に、次回に向けてMy Driveにzipファイルを退避させておく。"
   ]
  },
  {
   "cell_type": "code",
   "execution_count": null,
   "id": "e29eca77-7740-4ef1-9ddb-f852e8a339c7",
   "metadata": {
    "tags": []
   },
   "outputs": [],
   "source": [
    "if not os.path.exists(\"/content/q-e/\"):\n",
    "    if os.path.isfile(\"/content/drive/MyDrive/q-e.zip\"):\n",
    "    %cd /content/\n",
    "    !unzip /content/drive/MyDrive/q-e.zip\n",
    "else:\n",
    "    %cd /content/\n",
    "    !git clone https://github.com/minoru-otani/q-e.git\n",
    "    !apt-get install -y libfftw3-3 libfftw3-dev libfftw3-doc\n",
    "    %cd q-e\n",
    "    !DFLAGS='-D__FFTW3 -D__MPI' FFT_LIBS='-lfftw3' ./configure\n",
    "    !make pw pp\n",
    "    !zip -r /content/drive/MyDrive/q-e.zip q-e"
   ]
  },
  {
   "cell_type": "markdown",
   "id": "0a862803-a77b-467a-8871-32ac3162a086",
   "metadata": {},
   "source": [
    "擬ポテンシャルが既にダウンロードされている場合はそれをコピーする"
   ]
  },
  {
   "cell_type": "code",
   "execution_count": null,
   "id": "76da27be",
   "metadata": {},
   "outputs": [],
   "source": [
    "if os.path.isfile(\"/content/drive/MyDrive/pseudo.zip\"):\n",
    "    %cd /content/q-e/pseudo/\n",
    "    !unzip /content/drive/MyDrive/pseudo.zip"
   ]
  }
 ],
 "metadata": {
  "interpreter": {
   "hash": "aee8b7b246df8f9039afb4144a1f6fd8d2ca17a180786b69acc140d282b71a49"
  },
  "kernelspec": {
   "display_name": "Python 3 (ipykernel)",
   "language": "python",
   "name": "python3"
  },
  "language_info": {
   "codemirror_mode": {
    "name": "ipython",
    "version": 3
   },
   "file_extension": ".py",
   "mimetype": "text/x-python",
   "name": "python",
   "nbconvert_exporter": "python",
   "pygments_lexer": "ipython3",
   "version": "3.9.7"
  }
 },
 "nbformat": 4,
 "nbformat_minor": 5
}
