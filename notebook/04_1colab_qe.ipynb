{
 "cells": [
  {
   "cell_type": "markdown",
   "id": "a474a7bd-af2f-4aa1-830b-123e0ee6dfe5",
   "metadata": {
    "tags": []
   },
   "source": [
    "# QEを用意する"
   ]
  },
  {
   "cell_type": "code",
   "execution_count": null,
   "id": "f00e27e9",
   "metadata": {},
   "outputs": [],
   "source": [
    "%load_ext autoreload\n",
    "%autoreload 2"
   ]
  },
  {
   "cell_type": "code",
   "execution_count": null,
   "id": "40bf0633-c0ef-47af-8752-a198e4b7ec24",
   "metadata": {},
   "outputs": [],
   "source": [
    "import os\n",
    "import importlib"
   ]
  },
  {
   "cell_type": "markdown",
   "id": "d30ab671",
   "metadata": {
    "tags": []
   },
   "source": [
    "# Google Colaboratory上でQuantum ESPRESSO(QE)を用意する"
   ]
  },
  {
   "cell_type": "markdown",
   "id": "c528c403-841e-4b85-a900-a709e1e18950",
   "metadata": {},
   "source": [
    "まず自分のgoogle driveをマウントする。（google accountが必要です。）"
   ]
  },
  {
   "cell_type": "code",
   "execution_count": null,
   "id": "a3ca9a51-b8d2-42c4-a429-e8a5b0aca7bc",
   "metadata": {},
   "outputs": [],
   "source": [
    "from google.colab import drive\n",
    "drive.mount('/content/drive')"
   ]
  },
  {
   "cell_type": "markdown",
   "id": "7e300485-2867-4fe9-ab1f-e2fc6d6cf8b0",
   "metadata": {},
   "source": [
    "既にコンパイルしたQEがある場合にはコピーする。ない場合にはダウンロードしてコンパイルすると同時に、次回に向けてMy Driveにzipファイルを退避させておく。"
   ]
  },
  {
   "cell_type": "code",
   "execution_count": null,
   "id": "ea2b2f30-929d-4918-a372-d309602b7be1",
   "metadata": {},
   "outputs": [],
   "source": [
    "if not os.path.exists(\"/content/q-e/\"):\n",
    "    if os.path.isfile(\"/content/drive/MyDrive/q-e.zip\"): \n",
    "        %cd /content/\n",
    "        !unzip /content/drive/MyDrive/q-e.zip\n",
    "    else:\n",
    "        %cd /content/\n",
    "        !git clone https://github.com/minoru-otani/q-e.git\n",
    "        !apt-get install -y libfftw3-3 libfftw3-dev libfftw3-doc\n",
    "        %cd q-e/\n",
    "        !DFLAGS='-D__FFTW3 -D__MPI' FFT_LIBS='-lfftw3' ./configure\n",
    "        !make pw pp\n",
    "        %cd /content/\n",
    "        !zip -r /content/drive/MyDrive/q-e.zip q-e"
   ]
  },
  {
   "cell_type": "markdown",
   "id": "a9e46063-4ee8-45bb-9852-5adcd1cb70a5",
   "metadata": {},
   "source": [
    "パスを設定"
   ]
  },
  {
   "cell_type": "code",
   "execution_count": null,
   "id": "2fc01c29-6fbd-455c-bf26-529f6a77dde1",
   "metadata": {},
   "outputs": [],
   "source": [
    "os.environ['PATH'] = \"/content/q-e/bin:\"+os.environ['PATH']\n",
    "os.environ['ASE_ESPRESSO_COMMAND'] = \"mpirun --allow-run-as-root -np 4 pw.x -in PREFIX.pwi > PREFIX.pwo\"\n",
    "qef_pseudo = 'http://www.quantum-espresso.org/wp-content/uploads/upf_files/'\n",
    "pseudo_dir = \"/content/q-e/pseudo/\""
   ]
  },
  {
   "cell_type": "markdown",
   "id": "8a75a275-3dde-46fe-b418-f755fa5902e2",
   "metadata": {},
   "source": [
    "## Docker container上でQuantum ESPRESSO(QE)を用意する"
   ]
  },
  {
   "cell_type": "code",
   "execution_count": null,
   "id": "79159d66-8b85-489d-9909-0e197a0487a7",
   "metadata": {},
   "outputs": [],
   "source": [
    "!git clone https://github.com/minoru-otani/q-e.git -b qe-6.8 --depth 1\n",
    "%cd q-e\n",
    "!DFLAGS='-D__FFTW3 -D__MPI' FFT_LIBS='-lfftw3 -lfftw3_omp' ./configure --enable-openmp\n",
    "!make pw pp neb"
   ]
  }
 ],
 "metadata": {
  "interpreter": {
   "hash": "aee8b7b246df8f9039afb4144a1f6fd8d2ca17a180786b69acc140d282b71a49"
  },
  "kernelspec": {
   "display_name": "Python 3 (ipykernel)",
   "language": "python",
   "name": "python3"
  },
  "language_info": {
   "codemirror_mode": {
    "name": "ipython",
    "version": 3
   },
   "file_extension": ".py",
   "mimetype": "text/x-python",
   "name": "python",
   "nbconvert_exporter": "python",
   "pygments_lexer": "ipython3",
   "version": "3.9.7"
  }
 },
 "nbformat": 4,
 "nbformat_minor": 5
}
