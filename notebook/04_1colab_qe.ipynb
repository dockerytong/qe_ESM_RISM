{
 "cells": [
  {
   "cell_type": "markdown",
   "id": "a474a7bd-af2f-4aa1-830b-123e0ee6dfe5",
   "metadata": {
    "tags": []
   },
   "source": [
    "# QEを用意する"
   ]
  },
  {
   "cell_type": "code",
   "execution_count": null,
   "id": "f00e27e9",
   "metadata": {},
   "outputs": [],
   "source": [
    "%load_ext autoreload\n",
    "%autoreload 2"
   ]
  },
  {
   "cell_type": "code",
   "execution_count": null,
   "id": "40bf0633-c0ef-47af-8752-a198e4b7ec24",
   "metadata": {},
   "outputs": [],
   "source": [
    "import os\n",
    "import importlib\n",
    "import numpy as np\n",
    "import matplotlib.pyplot as plt"
   ]
  },
  {
   "cell_type": "markdown",
   "id": "d30ab671",
   "metadata": {
    "tags": []
   },
   "source": [
    "# Google Colaboratory上でQuantum ESPRESSO(QE)を用意する"
   ]
  },
  {
   "cell_type": "markdown",
   "id": "c528c403-841e-4b85-a900-a709e1e18950",
   "metadata": {},
   "source": [
    "まず自分のgoogle driveをマウントする。（google accountが必要です。）"
   ]
  },
  {
   "cell_type": "code",
   "execution_count": null,
   "id": "a3ca9a51-b8d2-42c4-a429-e8a5b0aca7bc",
   "metadata": {},
   "outputs": [],
   "source": [
    "from google.colab import drive\n",
    "drive.mount('/content/drive')"
   ]
  },
  {
   "cell_type": "markdown",
   "id": "7b6b5778-6a17-4acc-872b-8feb4bd464cb",
   "metadata": {},
   "source": [
    "ASEがインストールされていなければ使えるようにする。"
   ]
  },
  {
   "cell_type": "code",
   "execution_count": null,
   "id": "5f82d205-669d-4642-ab37-9ebc480dca5f",
   "metadata": {},
   "outputs": [],
   "source": [
    "if importlib.util.find_spec(\"ase\") is None:\n",
    "    !pip install git+https://github.com/minoru-otani/ase.git@qe_rism"
   ]
  },
  {
   "cell_type": "markdown",
   "id": "9110ec23-fce2-4c3b-a0e3-bfcf92159116",
   "metadata": {},
   "source": [
    "QEのソースを取ってくる。現時点で最新のQE-7.0rc1にRISMが導入されたものを使う。"
   ]
  },
  {
   "cell_type": "code",
   "execution_count": null,
   "id": "c19ca33d-ec78-4436-a481-f6576cdbcda4",
   "metadata": {},
   "outputs": [],
   "source": [
    "!git clone -b qe-7.0-rism https://github.com/minoru-otani/q-e.git"
   ]
  },
  {
   "cell_type": "markdown",
   "id": "70059c25-f19d-438c-b833-6ba45a2552d7",
   "metadata": {},
   "source": [
    "コンパイルする。"
   ]
  },
  {
   "cell_type": "code",
   "execution_count": null,
   "id": "73da6347-fb79-400c-a559-5dcfc788de13",
   "metadata": {},
   "outputs": [],
   "source": [
    "!apt-get install -y libfftw3-3 libfftw3-dev libfftw3-doc\n",
    "%cd q-e/\n",
    "!DFLAGS='-D__FFTW3 -D__MPI' FFT_LIBS='-lfftw3' ./configure\n",
    "!make pw pp"
   ]
  },
  {
   "cell_type": "markdown",
   "id": "7e300485-2867-4fe9-ab1f-e2fc6d6cf8b0",
   "metadata": {},
   "source": [
    "既にコンパイルしたQEがある場合にはコピーする。ない場合にはダウンロードしてコンパイルすると同時に、次回に向けてMy Driveにzipファイルを退避させておく。"
   ]
  },
  {
   "cell_type": "code",
   "execution_count": null,
   "id": "ea2b2f30-929d-4918-a372-d309602b7be1",
   "metadata": {},
   "outputs": [],
   "source": [
    "%cd /content\n",
    "!zip -r /content/drive/'My Drive'/qe-7.0-rism.zip q-e"
   ]
  },
  {
   "cell_type": "markdown",
   "id": "c4eebc71-636f-4e61-a0c8-d5cdc8f9987d",
   "metadata": {},
   "source": [
    "環境を確認する。"
   ]
  },
  {
   "cell_type": "code",
   "execution_count": null,
   "id": "ffbb9916-745c-410f-aa0f-9dffb14b5c2f",
   "metadata": {},
   "outputs": [],
   "source": [
    "!cat /proc/cpuinfo # 2cpu, 1core for 1cpuなので２プロセス走らせる"
   ]
  },
  {
   "cell_type": "markdown",
   "id": "493c9614-a8c2-4039-83e8-0829076aaeeb",
   "metadata": {},
   "source": [
    "ASE用にパスを設定"
   ]
  },
  {
   "cell_type": "code",
   "execution_count": null,
   "id": "8fd8ff04-97d6-4fa3-8f28-acb3c60cd88a",
   "metadata": {},
   "outputs": [],
   "source": [
    "os.environ['PATH'] = \"/content/q-e/bin:\"+os.environ['PATH']\n",
    "os.environ['ASE_ESPRESSO_COMMAND'] = \"mpirun --allow-run-as-root -np 2 pw.x -in PREFIX.pwi > PREFIX.pwo\"\n",
    "qef_pseudo = 'http://www.quantum-espresso.org/wp-content/uploads/upf_files/'\n",
    "pseudo_dir = \"/content/q-e/pseudo/\""
   ]
  },
  {
   "cell_type": "markdown",
   "id": "05685cd1-72dc-4fd5-8e9d-9fb46f5405df",
   "metadata": {},
   "source": [
    "ESM/RISM_exampleを動かすためにenvironment_variablesを編集する"
   ]
  },
  {
   "cell_type": "code",
   "execution_count": null,
   "id": "27a400a1-d43b-41cb-8c96-7837ff18776e",
   "metadata": {},
   "outputs": [],
   "source": [
    "%cd /content/q-e/\n",
    "!cat -n environment_variables #どの行を編集するか見る→７６行目をコメントアウトして、７７行目を生かせば良いことが分かる。"
   ]
  },
  {
   "cell_type": "code",
   "execution_count": null,
   "id": "e93012c0-a7ad-4663-aedb-06f9dd3e5464",
   "metadata": {},
   "outputs": [],
   "source": [
    "%%bash\n",
    "sed -i -e \"76s/PARA_PREFIX/#PARA_PREFIX/\" environment_variables\n",
    "sed -i -e \"77d\" environment_variables\n",
    "sed -i -e \"77i PARA_PREFIX=\\\"mpirun --allow-run-as-root -np 2\\\"\" environment_variables\n",
    "cat -n environment_variables"
   ]
  },
  {
   "cell_type": "markdown",
   "id": "849b5021-c816-4093-a999-943aea9b49ee",
   "metadata": {},
   "source": [
    "ESM_exampleを動かしてみる。"
   ]
  },
  {
   "cell_type": "code",
   "execution_count": null,
   "id": "0f6aa23a-c0c6-4547-a7ef-15c32a171be9",
   "metadata": {},
   "outputs": [],
   "source": [
    "%cd /content/q-e/PW/examples/ESM_example\n",
    "!./run_example"
   ]
  },
  {
   "cell_type": "markdown",
   "id": "66d8190d-7f48-4186-92e1-87dab50872fd",
   "metadata": {},
   "source": [
    "計算結果を見てみる。"
   ]
  },
  {
   "cell_type": "code",
   "execution_count": null,
   "id": "793622d5-a1ed-4e44-a809-84deea22a684",
   "metadata": {},
   "outputs": [],
   "source": [
    "%cd results\n",
    "!cat H2O_pbc.out"
   ]
  },
  {
   "cell_type": "code",
   "execution_count": null,
   "id": "fad8e3b9-319b-4aa5-8531-c5feba2d8d3d",
   "metadata": {},
   "outputs": [],
   "source": [
    "%cd results\n",
    "!cat Al001_bc1.out"
   ]
  },
  {
   "cell_type": "markdown",
   "id": "acfcb0ed-e7ac-407e-873e-d6446e6f8f8d",
   "metadata": {},
   "source": [
    "ESM1をプロットしてみる。"
   ]
  },
  {
   "cell_type": "code",
   "execution_count": 1,
   "id": "5ac1081a-5741-4a74-b2c8-1563923713c6",
   "metadata": {},
   "outputs": [],
   "source": [
    "def plot_esm1(filename,titlename=''):\n",
    "    esm1 = np.loadtxt(filename,comments='#')\n",
    "\n",
    "    fig = plt.figure(\n",
    "        figsize   = (6, 4), # inch\n",
    "        dpi       = 100,    # dpi\n",
    "        edgecolor = 'black',\n",
    "        linewidth = '1'\n",
    "    )\n",
    "\n",
    "    fig.subplots_adjust(wspace=0.5, hspace=0.5)\n",
    "    fig.suptitle(titlename) \n",
    "\n",
    "    \n",
    "    ax1 = fig.add_subplot(221)\n",
    "    ax2 = fig.add_subplot(222)\n",
    "    ax3 = fig.add_subplot(223)\n",
    "    ax4 = fig.add_subplot(224)\n",
    "\n",
    "    ax1.set_xlabel('z (A)')\n",
    "    ax1.set_ylabel('rho (e/A)')\n",
    "    ax2.set_xlabel('z (A)')\n",
    "    ax2.set_ylabel('V_hartree (eV)')\n",
    "    ax3.set_xlabel('z (A)')\n",
    "    ax3.set_ylabel('V_ion (eV)')\n",
    "    ax4.set_xlabel('z (A)')\n",
    "    ax4.set_ylabel('V_electrostatic (eV)')\n",
    "    \n",
    "    ax4.axhline(0.0, linewidth='1', linestyle='dashed', color='black')\n",
    "\n",
    "    ax1.plot(esm1[:,0], esm1[:,1], color='black',linestyle='solid')\n",
    "    ax2.plot(esm1[:,0], esm1[:,2], color='black',linestyle='solid')\n",
    "    ax3.plot(esm1[:,0], esm1[:,3], color='black',linestyle='solid')\n",
    "    ax4.plot(esm1[:,0], esm1[:,4], color='black',linestyle='solid')\n",
    "\n",
    "    plt.show()"
   ]
  },
  {
   "cell_type": "code",
   "execution_count": null,
   "id": "b00e0125-e0fc-4a2f-b4e6-32bcf17a624f",
   "metadata": {},
   "outputs": [],
   "source": [
    "plot_esm1('H2O_bc1.esm1', titlename='H2O bc1')"
   ]
  },
  {
   "cell_type": "markdown",
   "id": "a9e46063-4ee8-45bb-9852-5adcd1cb70a5",
   "metadata": {},
   "source": [
    "RISM_exampleを動かしてみる。"
   ]
  },
  {
   "cell_type": "code",
   "execution_count": null,
   "id": "2fc01c29-6fbd-455c-bf26-529f6a77dde1",
   "metadata": {},
   "outputs": [],
   "source": [
    "%cd /content/q-e/PW/examples/RISM_example\n",
    "!./run_example"
   ]
  }
 ],
 "metadata": {
  "interpreter": {
   "hash": "aee8b7b246df8f9039afb4144a1f6fd8d2ca17a180786b69acc140d282b71a49"
  },
  "kernelspec": {
   "display_name": "Python 3 (ipykernel)",
   "language": "python",
   "name": "python3"
  },
  "language_info": {
   "codemirror_mode": {
    "name": "ipython",
    "version": 3
   },
   "file_extension": ".py",
   "mimetype": "text/x-python",
   "name": "python",
   "nbconvert_exporter": "python",
   "pygments_lexer": "ipython3",
   "version": "3.9.10"
  }
 },
 "nbformat": 4,
 "nbformat_minor": 5
}
