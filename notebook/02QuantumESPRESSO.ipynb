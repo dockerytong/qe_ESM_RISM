{
 "cells": [
  {
   "cell_type": "markdown",
   "id": "faa75e98-2d08-45ef-b80b-47cc5300c81e",
   "metadata": {
    "tags": []
   },
   "source": [
    "# Quantum ESPRESSOチュートリアル"
   ]
  },
  {
   "cell_type": "code",
   "execution_count": 1,
   "id": "c33959ff-8659-418f-bf63-4828996e13ff",
   "metadata": {},
   "outputs": [],
   "source": [
    "%matplotlib inline\n",
    "%config InlineBackend.figure_format = 'retina'"
   ]
  },
  {
   "cell_type": "code",
   "execution_count": 2,
   "id": "ef792279-d6da-40d7-868c-1e353f3f1371",
   "metadata": {},
   "outputs": [
    {
     "data": {
      "application/vnd.jupyter.widget-view+json": {
       "model_id": "932a127ae6af4c49863595972c03f2a1",
       "version_major": 2,
       "version_minor": 0
      },
      "text/plain": []
     },
     "metadata": {},
     "output_type": "display_data"
    }
   ],
   "source": [
    "from ase import Atoms\n",
    "from ase.io import read, write\n",
    "from ase.visualize import view\n",
    "from ase.constraints import FixAtoms\n",
    "from ase.io.cube import read_cube_data\n",
    "from ase.build import fcc111, add_adsorbate, molecule\n",
    "import nglview as nv\n",
    "import subprocess\n",
    "import numpy as np\n",
    "import matplotlib.pyplot as plt\n",
    "import os, sys, time, shutil"
   ]
  },
  {
   "cell_type": "markdown",
   "id": "d8f50f2c-beb2-49be-afcc-48a748ce5447",
   "metadata": {},
   "source": [
    "## Slabモデルを作成する\n",
    "\n",
    "ASEにはあらかじめ典型的な表面構造を作る関数が用意されている。用意されている構造をリストする。詳しくは[ase.build.surface](https://wiki.fysik.dtu.dk/ase/_modules/ase/build/surface.html)を参照。\n",
    "\n",
    "||||\n",
    "|---|---|---| \n",
    "|fcc(100)|fcc(110)|fcc(111)|\n",
    "|bcc(100)|bcc(110)|bcc(111)|\n",
    "|hcp(0001)|hcp(10$\\bar{1}$0)|||\n",
    "|diamond(111)|diamond(100)|||\n",
    "|mx2|graphene|||"
   ]
  },
  {
   "cell_type": "markdown",
   "id": "d322d569-c06a-413a-b5c2-9d2ae3027d92",
   "metadata": {},
   "source": [
    "### fcc金属の例"
   ]
  },
  {
   "cell_type": "code",
   "execution_count": 3,
   "id": "a685772a-2ad5-4e0e-9c13-00e0e2a97bcc",
   "metadata": {},
   "outputs": [
    {
     "data": {
      "application/vnd.jupyter.widget-view+json": {
       "model_id": "26b3ddb32c2546a5b7fdc066f4eb2cc3",
       "version_major": 2,
       "version_minor": 0
      },
      "text/plain": [
       "HBox(children=(NGLWidget(), VBox(children=(Dropdown(description='Show', options=('All', 'Cu'), value='All'), D…"
      ]
     },
     "metadata": {},
     "output_type": "display_data"
    }
   ],
   "source": [
    "slab = fcc111('Cu', size=(4,4,2), vacuum=10.0)\n",
    "slab.wrap() # 普通に作ると、ユニットセルをはみ出す原子があるので、ユニットセル内にwrapする。\n",
    "view(slab, viewer='ngl')"
   ]
  },
  {
   "cell_type": "markdown",
   "id": "b5614e2b-fea5-47c8-ad79-4040a6b8a2e5",
   "metadata": {},
   "source": [
    "### 分子吸着を考えるために分子を用意する"
   ]
  },
  {
   "cell_type": "code",
   "execution_count": 37,
   "id": "f241666d-ffa8-465d-ab39-a479791290ba",
   "metadata": {},
   "outputs": [
    {
     "data": {
      "application/vnd.jupyter.widget-view+json": {
       "model_id": "99d8c573424a4b8d9c09de3ce4755add",
       "version_major": 2,
       "version_minor": 0
      },
      "text/plain": [
       "HBox(children=(NGLWidget(), VBox(children=(Dropdown(description='Show', options=('All', 'C', 'O'), value='All'…"
      ]
     },
     "metadata": {},
     "output_type": "display_data"
    }
   ],
   "source": [
    "atoms = molecule('CO2')\n",
    "view(atoms, viewer='ngl')"
   ]
  },
  {
   "cell_type": "code",
   "execution_count": 38,
   "id": "98a85053-17df-4a36-a9a8-e648ce61c2a8",
   "metadata": {},
   "outputs": [
    {
     "data": {
      "text/plain": [
       "Symbols('CO2')"
      ]
     },
     "execution_count": 38,
     "metadata": {},
     "output_type": "execute_result"
    }
   ],
   "source": [
    "atoms.symbols"
   ]
  },
  {
   "cell_type": "code",
   "execution_count": 39,
   "id": "8a480c36-f8f7-4a8b-bda8-04a3f45360a9",
   "metadata": {},
   "outputs": [
    {
     "data": {
      "text/plain": [
       "array([6, 8, 8])"
      ]
     },
     "execution_count": 39,
     "metadata": {},
     "output_type": "execute_result"
    }
   ],
   "source": [
    "atoms.numbers"
   ]
  },
  {
   "cell_type": "code",
   "execution_count": 40,
   "id": "6f6951cf-1394-4fd3-8695-c9e815632a7d",
   "metadata": {},
   "outputs": [
    {
     "data": {
      "text/plain": [
       "array([[ 0.      ,  0.      ,  0.      ],\n",
       "       [ 0.      ,  0.      ,  1.178658],\n",
       "       [ 0.      ,  0.      , -1.178658]])"
      ]
     },
     "execution_count": 40,
     "metadata": {},
     "output_type": "execute_result"
    }
   ],
   "source": [
    "atoms.positions"
   ]
  },
  {
   "cell_type": "code",
   "execution_count": null,
   "id": "392786a3-d75b-4c51-8874-18f0caecc6fc",
   "metadata": {},
   "outputs": [],
   "source": []
  }
 ],
 "metadata": {
  "kernelspec": {
   "display_name": "Python 3 (ipykernel)",
   "language": "python",
   "name": "python3"
  },
  "language_info": {
   "codemirror_mode": {
    "name": "ipython",
    "version": 3
   },
   "file_extension": ".py",
   "mimetype": "text/x-python",
   "name": "python",
   "nbconvert_exporter": "python",
   "pygments_lexer": "ipython3",
   "version": "3.9.6"
  }
 },
 "nbformat": 4,
 "nbformat_minor": 5
}
