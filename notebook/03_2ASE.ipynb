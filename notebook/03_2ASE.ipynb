{
 "cells": [
  {
   "cell_type": "markdown",
   "id": "310f6e8d-3942-4210-a480-ab8c9fa2ae10",
   "metadata": {},
   "source": [
    "# ASEを使ってQE用の構造モデル（Graphite slab, Graphene）を作成する"
   ]
  },
  {
   "cell_type": "code",
   "execution_count": null,
   "id": "b47ef0e2-ff04-4c3e-ab4c-312aae814741",
   "metadata": {},
   "outputs": [],
   "source": [
    "%matplotlib inline\n",
    "%config InlineBackend.figure_format = 'retina'\n",
    "%load_ext autoreload\n",
    "%autoreload 2"
   ]
  },
  {
   "cell_type": "code",
   "execution_count": null,
   "id": "62b6b93e-9662-4e32-8136-fbb64aa16f3c",
   "metadata": {},
   "outputs": [],
   "source": [
    "import importlib\n",
    "if importlib.util.find_spec(\"ase\") is None:\n",
    "    !pip install git+https://github.com/minoru-otani/ase.git@qe_rism"
   ]
  },
  {
   "cell_type": "code",
   "execution_count": null,
   "id": "97bf6356-e23e-4fc2-945d-f5e7696bf796",
   "metadata": {},
   "outputs": [],
   "source": [
    "import copy\n",
    "import matplotlib.pyplot as plt\n",
    "from ase import Atoms\n",
    "from ase.io import read, write\n",
    "from ase.visualize import view\n",
    "from ase.visualize.plot import plot_atoms\n",
    "from ase.constraints import FixAtoms\n",
    "from ase.io.cube import read_cube_data\n",
    "from ase.build import fcc111, graphene, add_adsorbate, molecule, cut, add_vacuum\n",
    "from ase.geometry import wrap_positions\n",
    "from ase.lattice.hexagonal import Graphite, Graphene"
   ]
  },
  {
   "cell_type": "markdown",
   "id": "09d7b655-a952-4598-a10a-449fe5744520",
   "metadata": {},
   "source": [
    "## Grapheneを使ってスラブモデルを作成する"
   ]
  },
  {
   "cell_type": "markdown",
   "id": "a6a89325-51e5-4899-b1a1-7ce00b29fdc6",
   "metadata": {},
   "source": [
    "### プリミティブセルを作る"
   ]
  },
  {
   "cell_type": "markdown",
   "id": "bcf56ad5-5d48-41c8-bc4b-b3d09ce41b4d",
   "metadata": {},
   "source": [
    "3-1で使ったbuildモジュールにある表面構造を作る関数を用いてgrapheneのモデルを作成する。"
   ]
  },
  {
   "cell_type": "code",
   "execution_count": null,
   "id": "90cc8d9b-462f-4b14-a821-9e98aceedcc8",
   "metadata": {},
   "outputs": [],
   "source": [
    "lvac = 8.0 # 左の真空領域\n",
    "rvac = 10.0 # 右の真空領域\n",
    "vac = (lvac + rvac)/2.0 # grapheneに与えるときは1/2して与える。\n",
    "gra = graphene(formula='C2', a=2.46, size=(1,1,1), vacuum=vac)\n",
    "gra.wrap() # はみ出た原子があればユニットセル内に戻す \n",
    "gra.translate((0.0,0.0,lvac - vac)) # 与えたlvac, rvacを持つようにずらす"
   ]
  },
  {
   "cell_type": "markdown",
   "id": "f47a0323-b788-41ee-81c8-baf7e0f04527",
   "metadata": {},
   "source": [
    "プロットして実際にちゃんとできているかを確認する。"
   ]
  },
  {
   "cell_type": "markdown",
   "id": "2e76b622-afba-4efa-8027-76407d517c54",
   "metadata": {},
   "source": [
    "### 大きい表面を作る。今回は$3\\times 3\\sqrt{3}$モデルを作る。"
   ]
  },
  {
   "cell_type": "markdown",
   "id": "c4e3e347-e6fc-429a-b429-041e9d2225c8",
   "metadata": {},
   "source": [
    "グラフェンのユニットセルを$\\boldsymbol{a}=(a,0)$, $\\boldsymbol{b}=(-\\frac{1}{2}a, \\frac{\\sqrt{3}}{2}a)$に対して、新しい表面のユニットセルを$\\boldsymbol{A}=\\ell_1\\boldsymbol{a}+m_1\\boldsymbol{b}$, $\\boldsymbol{B}=\\ell_2\\boldsymbol{a}+m_2\\boldsymbol{b}$で定義すれば良い。新たな$(\\ell_1, m_1)$, $(\\ell_2, m_2)$を与えて、cut関数を使う。$\\ell_1=3$, $m_1=0$及び、"
   ]
  },
  {
   "cell_type": "code",
   "execution_count": null,
   "id": "5a8cd028-cfc8-45bf-b42f-a3e6b459cd6b",
   "metadata": {},
   "outputs": [],
   "source": []
  },
  {
   "cell_type": "code",
   "execution_count": null,
   "id": "fc0de485-a287-42e6-b02d-877ecaaa1392",
   "metadata": {},
   "outputs": [],
   "source": [
    "from inspect import signature\n",
    "signature(Graphite)"
   ]
  },
  {
   "cell_type": "code",
   "execution_count": null,
   "id": "67b6afab-d628-4504-9ccc-3e707003bd79",
   "metadata": {},
   "outputs": [],
   "source": [
    "from inspect import signature\n",
    "signature(Graphene)"
   ]
  },
  {
   "cell_type": "code",
   "execution_count": null,
   "id": "54816fe6-9b42-4f50-a493-d9d3b92f8a1b",
   "metadata": {},
   "outputs": [],
   "source": [
    "signature(cut)"
   ]
  },
  {
   "cell_type": "code",
   "execution_count": null,
   "id": "c3a6820e-6022-463f-b8d7-1e91610df285",
   "metadata": {},
   "outputs": [],
   "source": [
    "Graphite.bravais_basis"
   ]
  },
  {
   "cell_type": "code",
   "execution_count": null,
   "id": "4b335bac-e289-429d-b101-28fe5c64111e",
   "metadata": {},
   "outputs": [],
   "source": [
    "Graphite.bravais_basis.append([1/3,1/3,0])"
   ]
  },
  {
   "cell_type": "code",
   "execution_count": null,
   "id": "85a0aeb3-4856-493f-9895-0535a61bd1bc",
   "metadata": {},
   "outputs": [],
   "source": [
    "Graphite.bravais_basis"
   ]
  },
  {
   "cell_type": "code",
   "execution_count": null,
   "id": "af65967d-b254-4f7a-b4d7-9108d7a5c1c5",
   "metadata": {},
   "outputs": [],
   "source": [
    "gra = Graphite('C', latticeconstant={'a':2.46, 'c':6.70}, size=(1,1,1))\n",
    "gra_cut = cut(gra, a=(1,0,0), b=(1,2,0), c=(0,0,2.0))\n",
    "#add_vacuum(gra_cut, 10)\n",
    "aobj = gra_cut\n",
    "print(f' Unit cell: a = ({aobj.cell[0,0]:9.5f}, {aobj.cell[0,1]:9.5f}, {aobj.cell[0,2]:9.5f})')\n",
    "print(f'            b = ({aobj.cell[1,0]:9.5f}, {aobj.cell[1,1]:9.5f}, {aobj.cell[1,2]:9.5f})')\n",
    "print(f'            c = ({aobj.cell[2,0]:9.5f}, {aobj.cell[2,1]:9.5f}, {aobj.cell[2,2]:9.5f})')\n",
    "print(f' Number of atoms: {len(aobj.positions):5d}')\n",
    "print(f' Species, Positions:')\n",
    "for i in range(len(aobj.positions)):\n",
    "    print(f'  \\'{aobj.symbols[i]:<2}\\' ({aobj.positions[i,0]:9.5f}, {aobj.positions[i,1]:9.5f}, {aobj.positions[i,2]:9.5f})')"
   ]
  },
  {
   "cell_type": "code",
   "execution_count": null,
   "id": "19da9659-e2bf-42a5-bc16-59fea9f6fee1",
   "metadata": {},
   "outputs": [],
   "source": [
    "fig, ax = plt.subplots(2,1, figsize=(12, 6))\n",
    "ax[0].set_axis_off()\n",
    "ax[1].set_axis_off()\n",
    "plot_atoms(gra_cut, ax[0], radii=1.2, rotation=('0x,0y,0z'))\n",
    "plot_atoms(gra_cut, ax[1], radii=1.2, rotation=('90x,90y,90z'))\n",
    "plt.show()"
   ]
  },
  {
   "cell_type": "code",
   "execution_count": null,
   "id": "b22b8e50-0177-4480-9f67-9645ef39d984",
   "metadata": {},
   "outputs": [],
   "source": [
    "view(gra_cut, viewer='ngl')"
   ]
  },
  {
   "cell_type": "code",
   "execution_count": null,
   "id": "77dffc48-5d64-456c-8a07-1711e2b54232",
   "metadata": {},
   "outputs": [],
   "source": [
    "Graphene.bravais_basis"
   ]
  },
  {
   "cell_type": "code",
   "execution_count": null,
   "id": "7b458d6a-4b13-4b58-a2e7-4b42607847f7",
   "metadata": {},
   "outputs": [],
   "source": [
    "Graphene.bravais_basis.append([1/3, 2/3, 1/3])\n",
    "Graphene.bravais_basis.append([2/3, 1/3, 1/3])\n",
    "Graphene.bravais_basis.append([2/3, 1/3, 2/3])\n",
    "Graphene.bravais_basis.append([0, 0, 2/3])"
   ]
  },
  {
   "cell_type": "code",
   "execution_count": null,
   "id": "5cdccab5-0651-4f0a-a920-ec3cee08e173",
   "metadata": {},
   "outputs": [],
   "source": [
    "gra = Graphene('C', latticeconstant={'a':2.46, 'c':6.70+6.7/2}, size=(1,1,1))"
   ]
  },
  {
   "cell_type": "code",
   "execution_count": null,
   "id": "3e8604bf-90df-4b70-a81a-1ef3b18d96c5",
   "metadata": {},
   "outputs": [],
   "source": [
    "view(gra, viewer='ngl')"
   ]
  },
  {
   "cell_type": "code",
   "execution_count": null,
   "id": "bb1f625f-66a3-4cf8-887e-8a8be61ce6b1",
   "metadata": {},
   "outputs": [],
   "source": [
    "gra_plus = Graphene"
   ]
  },
  {
   "cell_type": "code",
   "execution_count": null,
   "id": "886cfe0a-3534-4efa-b4f0-3d20b2080316",
   "metadata": {},
   "outputs": [],
   "source": [
    "signature(Graphene)"
   ]
  },
  {
   "cell_type": "code",
   "execution_count": null,
   "id": "a4933ae2-c2c3-473d-b251-42160f1d55e5",
   "metadata": {},
   "outputs": [],
   "source": [
    "Graphene.bravais_basis"
   ]
  },
  {
   "cell_type": "code",
   "execution_count": null,
   "id": "17ddc145-9499-4f3e-ab73-31e2b4d7cc63",
   "metadata": {},
   "outputs": [],
   "source": [
    "del Graphene.bravais_basis[2:5:1]"
   ]
  },
  {
   "cell_type": "code",
   "execution_count": null,
   "id": "c02ab984-9e41-4dad-9b4c-6f129a8a56ef",
   "metadata": {},
   "outputs": [],
   "source": [
    "Graphene.bravais_basis.pop(2)"
   ]
  },
  {
   "cell_type": "code",
   "execution_count": null,
   "id": "ae57cbce-f25b-47cf-b1a8-53921b2ceb1c",
   "metadata": {},
   "outputs": [],
   "source": []
  }
 ],
 "metadata": {
  "kernelspec": {
   "display_name": "Python 3 (ipykernel)",
   "language": "python",
   "name": "python3"
  },
  "language_info": {
   "codemirror_mode": {
    "name": "ipython",
    "version": 3
   },
   "file_extension": ".py",
   "mimetype": "text/x-python",
   "name": "python",
   "nbconvert_exporter": "python",
   "pygments_lexer": "ipython3",
   "version": "3.9.7"
  }
 },
 "nbformat": 4,
 "nbformat_minor": 5
}
