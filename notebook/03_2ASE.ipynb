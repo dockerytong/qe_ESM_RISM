{
 "cells": [
  {
   "cell_type": "code",
   "execution_count": null,
   "id": "b47ef0e2-ff04-4c3e-ab4c-312aae814741",
   "metadata": {},
   "outputs": [],
   "source": [
    "%matplotlib inline\n",
    "%config InlineBackend.figure_format = 'retina'\n",
    "%load_ext autoreload\n",
    "%autoreload 2"
   ]
  },
  {
   "cell_type": "code",
   "execution_count": null,
   "id": "62b6b93e-9662-4e32-8136-fbb64aa16f3c",
   "metadata": {},
   "outputs": [],
   "source": [
    "import importlib\n",
    "if importlib.util.find_spec(\"ase\") is None:\n",
    "    !pip install git+https://github.com/minoru-otani/ase.git@qe_rism"
   ]
  },
  {
   "cell_type": "code",
   "execution_count": null,
   "id": "97bf6356-e23e-4fc2-945d-f5e7696bf796",
   "metadata": {},
   "outputs": [],
   "source": [
    "import copy\n",
    "import matplotlib.pyplot as plt\n",
    "from ase import Atoms\n",
    "from ase.io import read, write\n",
    "from ase.visualize import view\n",
    "from ase.visualize.plot import plot_atoms\n",
    "from ase.constraints import FixAtoms\n",
    "from ase.io.cube import read_cube_data\n",
    "from ase.build import fcc111, graphene, add_adsorbate, molecule\n",
    "from ase.geometry import wrap_positions\n",
    "from ase.lattice.hexagonal import Graphite"
   ]
  },
  {
   "cell_type": "code",
   "execution_count": null,
   "id": "af7d0e6e-8861-45f1-9580-0ac269ccdca0",
   "metadata": {},
   "outputs": [],
   "source": [
    "dir(Graphite)"
   ]
  },
  {
   "cell_type": "code",
   "execution_count": null,
   "id": "fc0de485-a287-42e6-b02d-877ecaaa1392",
   "metadata": {},
   "outputs": [],
   "source": [
    "from inspect import signature\n",
    "signature(Graphite)"
   ]
  }
 ],
 "metadata": {
  "kernelspec": {
   "display_name": "Python 3 (ipykernel)",
   "language": "python",
   "name": "python3"
  },
  "language_info": {
   "codemirror_mode": {
    "name": "ipython",
    "version": 3
   },
   "file_extension": ".py",
   "mimetype": "text/x-python",
   "name": "python",
   "nbconvert_exporter": "python",
   "pygments_lexer": "ipython3",
   "version": "3.9.7"
  }
 },
 "nbformat": 4,
 "nbformat_minor": 5
}
