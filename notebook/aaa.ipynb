{
 "cells": [
  {
   "cell_type": "markdown",
   "id": "ed26e5ca-6e34-43a9-9538-9dde3c76e7c9",
   "metadata": {},
   "source": [
    "# Pythonの数学ライブラリーを使って積分を実施する"
   ]
  },
  {
   "cell_type": "code",
   "execution_count": null,
   "id": "b9411777-9af1-4503-b3ee-0a1f106e56d0",
   "metadata": {},
   "outputs": [],
   "source": [
    "%matplotlib inline\n",
    "%config InlineBackend.figure_format = 'retina'"
   ]
  },
  {
   "cell_type": "code",
   "execution_count": null,
   "id": "bca26797-a602-462a-a735-6c75ffffadf1",
   "metadata": {},
   "outputs": [],
   "source": [
    "from scipy import integrate\n",
    "import numpy as np\n",
    "import matplotlib.pyplot as plt"
   ]
  },
  {
   "cell_type": "markdown",
   "id": "9dab561c-9107-4146-b6df-6929eab09acf",
   "metadata": {},
   "source": [
    "SciPyのintegrateを用いて台形則とシンプソン則を用いた積分を行う。電荷密度などの積分を行うときに用いる。ここでは台形則```trapz```とシンプソン則```simps```を使ってみて誤差の見積もりまで行う。チュートリアルではシンプソン則を用いる。ここでは、例として\n",
    "\\begin{equation}\n",
    "\\int_0^1\\frac{4}{1+x^2}\\mathrm{d}x = \\pi\n",
    "\\end{equation}\n",
    "を考える。"
   ]
  },
  {
   "cell_type": "markdown",
   "id": "35f7f5b8-ac0a-4e3a-81da-54608abaaef8",
   "metadata": {},
   "source": [
    "## 積分を実行する"
   ]
  },
  {
   "cell_type": "code",
   "execution_count": null,
   "id": "9efa4ccf-1322-43b8-95ce-606097750c69",
   "metadata": {},
   "outputs": [],
   "source": [
    "x = np.linspace(0.0,1.0,5) # [0,1]を5等分してリストxに格納する。\n",
    "y = 4.0/(1.0 + x**2) # 非積分関数の値をリストyに格納する。\n",
    "\n",
    "y1_int = integrate.trapz(y, x) # 台形則による積分結果を格納\n",
    "y2_int = integrate.simps(y, x) #　シンプソン則による積分結果を格納\n",
    "\n",
    "# 結果を出力\n",
    "print(f' Exact value (pi): {np.pi:22.16f}   Absolute error')\n",
    "print(f' Trapezoid method: {y1_int:22.16f}     {abs(np.pi - y1_int):10.8f}') \n",
    "print(f' Simpons method:   {y2_int:22.16f}     {abs(np.pi - y2_int):10.8f}')"
   ]
  },
  {
   "cell_type": "markdown",
   "id": "fb62a663-516a-4d93-8bfa-38f00d7e17d5",
   "metadata": {},
   "source": [
    "## 誤差を評価する"
   ]
  },
  {
   "cell_type": "code",
   "execution_count": null,
   "id": "df0d4759-87ab-438e-827b-15aa7c85f4c3",
   "metadata": {},
   "outputs": [],
   "source": [
    "err_y1 = []\n",
    "err_y2 = []\n",
    "ngrid = [4, 8, 16, 32, 64, 128, 256, 512, 1024, 2048 ]\n",
    "for i in ngrid:\n",
    "    x = np.linspace(0.0, 1.0, i)\n",
    "    y = 4.0/(1.0+x**2)\n",
    "\n",
    "    y1_int = integrate.trapz(y, x)\n",
    "    y2_int = integrate.simps(y, x)\n",
    "    err_y1.append(abs(np.pi - y1_int) / np.pi)\n",
    "    err_y2.append(abs(np.pi - y2_int) / np.pi)"
   ]
  },
  {
   "cell_type": "code",
   "execution_count": null,
   "id": "a60a5124-db3f-4c66-b16c-ed9e809f4abd",
   "metadata": {},
   "outputs": [],
   "source": [
    "fig = plt.figure()\n",
    "ax = fig.add_subplot(111)\n",
    "\n",
    "ax.set_xscale('log')\n",
    "ax.set_yscale('log')\n",
    "ax.plot(ngrid, err_y1, \"-\", color='red', label='Trapezoid method')\n",
    "ax.plot(ngrid, err_y2, \"-\", color='blue', label='Simpson method')\n",
    "ax.set_xlabel('Number of grids', fontsize=12)\n",
    "ax.set_ylabel('Error (%)', fontsize=12)\n",
    "ax.grid(which=\"both\")\n",
    "ax.legend(loc='upper right')\n",
    "plt.show()"
   ]
  },
  {
   "cell_type": "code",
   "execution_count": null,
   "id": "8587d468-4c89-49f7-b7c1-1899d25172d6",
   "metadata": {},
   "outputs": [],
   "source": []
  }
 ],
 "metadata": {
  "kernelspec": {
   "display_name": "Python 3 (ipykernel)",
   "language": "python",
   "name": "python3"
  },
  "language_info": {
   "codemirror_mode": {
    "name": "ipython",
    "version": 3
   },
   "file_extension": ".py",
   "mimetype": "text/x-python",
   "name": "python",
   "nbconvert_exporter": "python",
   "pygments_lexer": "ipython3",
   "version": "3.9.7"
  }
 },
 "nbformat": 4,
 "nbformat_minor": 5
}
