{
 "cells": [
  {
   "cell_type": "markdown",
   "id": "d30ab671",
   "metadata": {},
   "source": [
    "# Google Colaboratoryを使ってESM/ESM-RISM計算を行う"
   ]
  },
  {
   "cell_type": "code",
   "execution_count": 1,
   "id": "f00e27e9",
   "metadata": {},
   "outputs": [],
   "source": [
    "%matplotlib inline\n",
    "%config InlineBackend.figure_format = 'retina'\n",
    "%load_ext autoreload\n",
    "%autoreload 2"
   ]
  },
  {
   "cell_type": "markdown",
   "id": "1448fe97",
   "metadata": {},
   "source": [
    "## Quantum ESPRESSOをインストールする。"
   ]
  },
  {
   "cell_type": "code",
   "execution_count": null,
   "id": "76da27be",
   "metadata": {},
   "outputs": [],
   "source": [
    "!git clone https://github.com/minoru-otani/q-e.git\n",
    "!apt-get install -y libfftw3-3 libfftw3-dev libfftw3-doc\n",
    "%cd q-e\n",
    "!DFLAGS='-D__FFTW3 -D__MPI' FFT_LIBS='-lfftw3' ./configure\n",
    "!make pw pp"
   ]
  },
  {
   "cell_type": "markdown",
   "id": "01730157",
   "metadata": {},
   "source": [
    "### パスを設定"
   ]
  },
  {
   "cell_type": "code",
   "execution_count": null,
   "id": "ec92c56f",
   "metadata": {},
   "outputs": [],
   "source": [
    "import os\n",
    "os.environ['PATH'] = \"/content/q-e/bin:\"+os.environ['PATH']"
   ]
  },
  {
   "cell_type": "markdown",
   "id": "c2fe2cac",
   "metadata": {},
   "source": [
    "## ESM/ESM-RISMに対応したASEをインストールする"
   ]
  },
  {
   "cell_type": "code",
   "execution_count": null,
   "id": "3fca32b9",
   "metadata": {},
   "outputs": [],
   "source": [
    "import importlib\n",
    "if importlib.util.find_spec(\"ase\") is None:\n",
    "    !pip install git+https://github.com/minoru-otani/qe_tutorial_JP.git@qe_rism"
   ]
  },
  {
   "cell_type": "markdown",
   "id": "39d06936",
   "metadata": {},
   "source": [
    "インポートする"
   ]
  },
  {
   "cell_type": "code",
   "execution_count": 2,
   "id": "e5de9047",
   "metadata": {},
   "outputs": [],
   "source": [
    "import matplotlib.pyplot as plt\n",
    "from ase import Atoms\n",
    "from ase.io import read, write\n",
    "from ase.visualize import view\n",
    "from ase.visualize.plot import plot_atoms\n",
    "from ase.constraints import FixAtoms\n",
    "from ase.io.cube import read_cube_data\n",
    "from ase.build import fcc100, add_adsorbate, molecule\n",
    "from ase.geometry import wrap_positions\n",
    "from ase.calculators.espresso import Espresso"
   ]
  },
  {
   "cell_type": "markdown",
   "id": "8af1cb43",
   "metadata": {},
   "source": [
    "## スラブモデルでESM計算を実施する"
   ]
  },
  {
   "cell_type": "markdown",
   "id": "e98b0507",
   "metadata": {},
   "source": [
    "### 擬ポテンシャルを取ってくる。"
   ]
  },
  {
   "cell_type": "code",
   "execution_count": null,
   "id": "f34e75fd",
   "metadata": {},
   "outputs": [],
   "source": [
    "!mkdir /content/calc\n",
    "%cd /content/calc\n",
    "!wget https://www.quantum-espresso.org/upf_files/Al.pbe-n-van.UPF"
   ]
  },
  {
   "cell_type": "markdown",
   "id": "51b3bfa6",
   "metadata": {},
   "source": [
    "### Al(100)のスラブモデルを作成する。\n",
    "\n",
    "ASEを使ってスラブモデルを作成する。"
   ]
  },
  {
   "cell_type": "code",
   "execution_count": null,
   "id": "1f5134df",
   "metadata": {},
   "outputs": [],
   "source": [
    "slab = fcc100('Al', size=(1,1,4), vacuum=10.0)\n",
    "slab.wrap() # wrap extended atoms into a unit cell.\n",
    "fig, ax = plt.subplots(2,1, figsize=(12, 6))\n",
    "ax[0].set_axis_off()\n",
    "ax[1].set_axis_off()\n",
    "plot_atoms(slab, ax[0], radii=1.0, rotation=('0x,0y,0z'))\n",
    "plot_atoms(slab, ax[1], radii=1.0, rotation=('90x,90y,90z'))"
   ]
  },
  {
   "cell_type": "markdown",
   "id": "29098365",
   "metadata": {},
   "source": [
    "ESM計算用にスラブの位置をずらす"
   ]
  },
  {
   "cell_type": "code",
   "execution_count": null,
   "id": "24c0e416",
   "metadata": {},
   "outputs": [],
   "source": [
    "lvac = 10.0\n",
    "rvac = 10.0\n",
    "vac = (lvac + rvac)/2.0\n",
    "slab = fcc100('Al', size=(1,1,4), vacuum=vac)\n",
    "slab.wrap() # wrap extended atoms into a unit cell.\n",
    "slab.translate((0.0,0.0,lvac - vac)) # shift atoms to have given vacuum thickness\n",
    "slab.translate((0.0,0.0,-slab.cell[2,2]/2.0)) # shift atoms to fit ESM/ESM-RISM model\n",
    "fig, ax = plt.subplots(1,1, figsize=(12, 6))\n",
    "ax.set_axis_off()\n",
    "plot_atoms(slab, ax, radii=1.0, rotation=('90x,90y,90z'))"
   ]
  },
  {
   "cell_type": "markdown",
   "id": "21469e9d",
   "metadata": {},
   "source": [
    "### 計算を実行する。"
   ]
  },
  {
   "cell_type": "code",
   "execution_count": null,
   "id": "0463481c",
   "metadata": {},
   "outputs": [],
   "source": [
    "pseudopotentials = {'Al':'Al.pbe-n-van.UPF'}\n",
    "input_data = {\n",
    "    'control': {\n",
    "        'calculation': 'scf',\n",
    "        'restart_mode': 'from_scratch',\n",
    "        'prefix': 'Al100_bc2',\n",
    "        'disk_io': 'low'\n",
    "    },\n",
    "    'system': {\n",
    "        'ibrav': 0,\n",
    "        'ecutwfc': 20,\n",
    "        'ecutrho': 160,\n",
    "        'occupations' : 'smearing',\n",
    "        'smearing':'mp',\n",
    "        'degauss' : 0.03,\n",
    "        'assume_isolated': 'esm',\n",
    "        'esm_bc': 'bc1'\n",
    "    },\n",
    "    'electrons': {\n",
    "        'mixing_beta': 0.3\n",
    "    }\n",
    "}\n",
    "\n",
    "calc = Espresso(pseudo_dir='/content/calc/',\n",
    "                pseudopotentials=pseudopotentials,\n",
    "                kpts=(16, 16, 1),\n",
    "                koffset=(1, 1, 0),\n",
    "                input_data=input_data)\n",
    "slab.set_calculator(calc)\n",
    "\n",
    "slab.get_potential_energy()\n",
    "fermi_level = calc.get_fermi_level()\n",
    "print(fermi_level)"
   ]
  },
  {
   "cell_type": "markdown",
   "id": "287063ba",
   "metadata": {},
   "source": [
    "###　結果を解析する\n",
    "\n",
    "esm1に出力されたデータをプロットする。"
   ]
  },
  {
   "cell_type": "code",
   "execution_count": 2,
   "id": "efd37e2f",
   "metadata": {},
   "outputs": [
    {
     "ename": "ModuleNotFoundError",
     "evalue": "No module named 'plot_esm1'",
     "output_type": "error",
     "traceback": [
      "\u001b[0;31m---------------------------------------------------------------------------\u001b[0m",
      "\u001b[0;31mModuleNotFoundError\u001b[0m                       Traceback (most recent call last)",
      "\u001b[0;32m/var/folders/2w/fjvn6g7d68sg_g0c2p3hfb580000gn/T/ipykernel_9462/3634694619.py\u001b[0m in \u001b[0;36m<module>\u001b[0;34m\u001b[0m\n\u001b[0;32m----> 1\u001b[0;31m \u001b[0;32mimport\u001b[0m \u001b[0mplot_esm1\u001b[0m\u001b[0;34m\u001b[0m\u001b[0;34m\u001b[0m\u001b[0m\n\u001b[0m\u001b[1;32m      2\u001b[0m \u001b[0mplot_esm1\u001b[0m\u001b[0;34m(\u001b[0m\u001b[0;34m'Al100_bc2.esm1'\u001b[0m\u001b[0;34m,\u001b[0m\u001b[0mtitlename\u001b[0m\u001b[0;34m=\u001b[0m\u001b[0;34m'Al100 bc1'\u001b[0m\u001b[0;34m)\u001b[0m\u001b[0;34m\u001b[0m\u001b[0;34m\u001b[0m\u001b[0m\n",
      "\u001b[0;31mModuleNotFoundError\u001b[0m: No module named 'plot_esm1'"
     ]
    }
   ],
   "source": [
    "plot_esm1('Al100_bc2.esm1',titlename='Al100 bc1')\n",
    "\n",
    "#!/usr/bin/env python3\n",
    "# -*- coding: utf-8 -*-\n",
    "import matplotlib.pyplot as plt\n",
    "import numpy as np\n",
    "import math\n",
    "\n",
    "\n",
    "def plot_esm1(filename, titlename=''):\n",
    "    esm1 = np.loadtxt(filename, comments='#')\n",
    "\n",
    "    fig = plt.figure(\n",
    "        figsize=(6, 4),  # inch\n",
    "#       dpi=100,  # dpi\n",
    "#        edgecolor='black',\n",
    "#        linewidth='1'\n",
    "    )\n",
    "\n",
    "    fig.subplots_adjust(wspace=0.5, hspace=0.5)\n",
    "    fig.suptitle(titlename)\n",
    "\n",
    "    ax1 = fig.add_subplot(221)\n",
    "    ax2 = fig.add_subplot(222)\n",
    "    ax3 = fig.add_subplot(223)\n",
    "    ax4 = fig.add_subplot(224)\n",
    "\n",
    "    ax1.set_xlabel('z (A)')\n",
    "    ax1.set_ylabel('rho (e/A)')\n",
    "    ax2.set_xlabel('z (A)')\n",
    "    ax2.set_ylabel('V_hartree (eV)')\n",
    "    ax3.set_xlabel('z (A)')\n",
    "    ax3.set_ylabel('V_ion (eV)')\n",
    "    ax4.set_xlabel('z (A)')\n",
    "    ax4.set_ylabel('V_electrostatic (eV)')\n",
    "\n",
    "    ax4.axhline(0.0, linewidth=1, linestyle='dashed', color='black')\n",
    "\n",
    "    ax1.plot(esm1[:, 0], esm1[:, 1], color='black', linestyle='solid')\n",
    "    ax2.plot(esm1[:, 0], esm1[:, 2], color='black', linestyle='solid')\n",
    "    ax3.plot(esm1[:, 0], esm1[:, 3], color='black', linestyle='solid')\n",
    "    ax4.plot(esm1[:, 0], esm1[:, 4], color='black', linestyle='solid')\n",
    "\n",
    "    plt.show()\n",
    "\n",
    "\n",
    "def plot_1drism(filename, titlename='', normalization=False, max_x=None):\n",
    "    with open(filename, 'r') as file:\n",
    "        data_1drism = file.readlines()\n",
    "        # line_molecules = data_1drism[3].split()\n",
    "        line_atoms = data_1drism[4].split()\n",
    "\n",
    "    data_1drism = np.loadtxt(filename, comments='#', skiprows=5)\n",
    "\n",
    "    number_of_sublines = int(math.ceil((len(line_atoms) - 1) / 3))\n",
    "    number_of_subplots = len(line_atoms) - 1\n",
    "\n",
    "    fig = plt.figure(\n",
    "        figsize=(15, 2 * number_of_sublines),  # inch\n",
    "#        dpi=100,  # dpi\n",
    "#        edgecolor='black',\n",
    "#        linewidth=1\n",
    "    )\n",
    "\n",
    "    fig.subplots_adjust(wspace=0.5, hspace=0.75)\n",
    "    fig.suptitle(titlename)\n",
    "\n",
    "    factor_norm = 1\n",
    "\n",
    "    for n_plot in range(1, number_of_subplots + 1):\n",
    "        if normalization:\n",
    "            factor_norm = data_1drism[-1, n_plot]\n",
    "\n",
    "        ax1 = fig.add_subplot(number_of_sublines, 3, n_plot)\n",
    "        if max_x is not None:\n",
    "            ax1.set_xlim([0, max_x])\n",
    "\n",
    "        ax1.set_xlabel('r (A)')\n",
    "        ax1.set_ylabel('rdf')\n",
    "\n",
    "        if (number_of_subplots % 3) == 0:\n",
    "            if n_plot <= (number_of_subplots // 3 - 1) * 3:\n",
    "                ax1.set_xlabel('')\n",
    "            # ax1.set_xticklabels([])\n",
    "\n",
    "        ax1.set_title(line_atoms[n_plot])\n",
    "        ax1.plot(data_1drism[:, 0], data_1drism[:, n_plot] / factor_norm, color='black', linestyle='solid')\n",
    "\n",
    "    #    plt.savefig('%s.pdf'%titlename)\n",
    "    plt.show()\n",
    "\n",
    "\n",
    "def plot_rism1(filename, titlename=''):\n",
    "    with open(filename, 'r') as file:\n",
    "        data_rism1 = file.readlines()\n",
    "        line_data = data_rism1[1].split()\n",
    "\n",
    "    data_rism1 = np.loadtxt(filename, comments='#', skiprows=2)\n",
    "\n",
    "    line_data = line_data[1:]\n",
    "    new_line_data = [line_data[0] + ' ' + line_data[1]]\n",
    "    for i in range(2, len(line_data), 3):\n",
    "        new_line_data.append(line_data[i] + ' ' + line_data[i + 1] + ' ' + line_data[i + 2])\n",
    "\n",
    "    number_of_sublines = int(math.ceil((len(new_line_data) - 1) / 3))\n",
    "    number_of_subplots = len(new_line_data) - 1\n",
    "\n",
    "    fig = plt.figure(\n",
    "        figsize=(15, 2 * number_of_sublines),  # inch\n",
    "#        dpi=100,  # dpi\n",
    "#       edgecolor='black',\n",
    "#        linewidth=1\n",
    "    )\n",
    "\n",
    "    fig.subplots_adjust(wspace=0.5, hspace=0.75)\n",
    "    fig.suptitle(titlename)\n",
    "\n",
    "    for n_plot in range(1, number_of_subplots + 1):\n",
    "        ax1 = fig.add_subplot(number_of_sublines, 3, n_plot)\n",
    "        ax1.set_xlabel(new_line_data[0])\n",
    "        ax1.set_ylabel(new_line_data[n_plot])\n",
    "        # ax1.set_title(line_atoms[n_plot])\n",
    "        ax1.plot(data_rism1[:, 0], data_rism1[:, n_plot], color='black', linestyle='solid')\n",
    "\n",
    "    plt.show()"
   ]
  },
  {
   "cell_type": "markdown",
   "id": "c662e184",
   "metadata": {},
   "source": [
    "### Matplotlibを用いてesm1ファイルのデータをプロットする関数を定義"
   ]
  },
  {
   "cell_type": "code",
   "execution_count": null,
   "id": "040183c7",
   "metadata": {},
   "outputs": [],
   "source": [
    "#!/usr/bin/env python3\n",
    "# -*- coding: utf-8 -*-\n",
    "import matplotlib.pyplot as plt\n",
    "import numpy as np\n",
    "import math\n",
    "\n",
    "\n",
    "def plot_esm1(filename, titlename=''):\n",
    "    esm1 = np.loadtxt(filename, comments='#')\n",
    "\n",
    "    fig = plt.figure(\n",
    "        figsize=(6, 4),  # inch\n",
    "#       dpi=100,  # dpi\n",
    "#        edgecolor='black',\n",
    "#        linewidth='1'\n",
    "    )\n",
    "\n",
    "    fig.subplots_adjust(wspace=0.5, hspace=0.5)\n",
    "    fig.suptitle(titlename)\n",
    "\n",
    "    ax1 = fig.add_subplot(221)\n",
    "    ax2 = fig.add_subplot(222)\n",
    "    ax3 = fig.add_subplot(223)\n",
    "    ax4 = fig.add_subplot(224)\n",
    "\n",
    "    ax1.set_xlabel('z (A)')\n",
    "    ax1.set_ylabel('rho (e/A)')\n",
    "    ax2.set_xlabel('z (A)')\n",
    "    ax2.set_ylabel('V_hartree (eV)')\n",
    "    ax3.set_xlabel('z (A)')\n",
    "    ax3.set_ylabel('V_ion (eV)')\n",
    "    ax4.set_xlabel('z (A)')\n",
    "    ax4.set_ylabel('V_electrostatic (eV)')\n",
    "\n",
    "    ax4.axhline(0.0, linewidth=1, linestyle='dashed', color='black')\n",
    "\n",
    "    ax1.plot(esm1[:, 0], esm1[:, 1], color='black', linestyle='solid')\n",
    "    ax2.plot(esm1[:, 0], esm1[:, 2], color='black', linestyle='solid')\n",
    "    ax3.plot(esm1[:, 0], esm1[:, 3], color='black', linestyle='solid')\n",
    "    ax4.plot(esm1[:, 0], esm1[:, 4], color='black', linestyle='solid')\n",
    "\n",
    "    plt.show()\n",
    "\n",
    "\n",
    "def plot_1drism(filename, titlename='', normalization=False, max_x=None):\n",
    "    with open(filename, 'r') as file:\n",
    "        data_1drism = file.readlines()\n",
    "        # line_molecules = data_1drism[3].split()\n",
    "        line_atoms = data_1drism[4].split()\n",
    "\n",
    "    data_1drism = np.loadtxt(filename, comments='#', skiprows=5)\n",
    "\n",
    "    number_of_sublines = int(math.ceil((len(line_atoms) - 1) / 3))\n",
    "    number_of_subplots = len(line_atoms) - 1\n",
    "\n",
    "    fig = plt.figure(\n",
    "        figsize=(15, 2 * number_of_sublines),  # inch\n",
    "#        dpi=100,  # dpi\n",
    "#        edgecolor='black',\n",
    "#        linewidth=1\n",
    "    )\n",
    "\n",
    "    fig.subplots_adjust(wspace=0.5, hspace=0.75)\n",
    "    fig.suptitle(titlename)\n",
    "\n",
    "    factor_norm = 1\n",
    "\n",
    "    for n_plot in range(1, number_of_subplots + 1):\n",
    "        if normalization:\n",
    "            factor_norm = data_1drism[-1, n_plot]\n",
    "\n",
    "        ax1 = fig.add_subplot(number_of_sublines, 3, n_plot)\n",
    "        if max_x is not None:\n",
    "            ax1.set_xlim([0, max_x])\n",
    "\n",
    "        ax1.set_xlabel('r (A)')\n",
    "        ax1.set_ylabel('rdf')\n",
    "\n",
    "        if (number_of_subplots % 3) == 0:\n",
    "            if n_plot <= (number_of_subplots // 3 - 1) * 3:\n",
    "                ax1.set_xlabel('')\n",
    "            # ax1.set_xticklabels([])\n",
    "\n",
    "        ax1.set_title(line_atoms[n_plot])\n",
    "        ax1.plot(data_1drism[:, 0], data_1drism[:, n_plot] / factor_norm, color='black', linestyle='solid')\n",
    "\n",
    "    #    plt.savefig('%s.pdf'%titlename)\n",
    "    plt.show()\n",
    "\n",
    "\n",
    "def plot_rism1(filename, titlename=''):\n",
    "    with open(filename, 'r') as file:\n",
    "        data_rism1 = file.readlines()\n",
    "        line_data = data_rism1[1].split()\n",
    "\n",
    "    data_rism1 = np.loadtxt(filename, comments='#', skiprows=2)\n",
    "\n",
    "    line_data = line_data[1:]\n",
    "    new_line_data = [line_data[0] + ' ' + line_data[1]]\n",
    "    for i in range(2, len(line_data), 3):\n",
    "        new_line_data.append(line_data[i] + ' ' + line_data[i + 1] + ' ' + line_data[i + 2])\n",
    "\n",
    "    number_of_sublines = int(math.ceil((len(new_line_data) - 1) / 3))\n",
    "    number_of_subplots = len(new_line_data) - 1\n",
    "\n",
    "    fig = plt.figure(\n",
    "        figsize=(15, 2 * number_of_sublines),  # inch\n",
    "#        dpi=100,  # dpi\n",
    "#       edgecolor='black',\n",
    "#        linewidth=1\n",
    "    )\n",
    "\n",
    "    fig.subplots_adjust(wspace=0.5, hspace=0.75)\n",
    "    fig.suptitle(titlename)\n",
    "\n",
    "    for n_plot in range(1, number_of_subplots + 1):\n",
    "        ax1 = fig.add_subplot(number_of_sublines, 3, n_plot)\n",
    "        ax1.set_xlabel(new_line_data[0])\n",
    "        ax1.set_ylabel(new_line_data[n_plot])\n",
    "        # ax1.set_title(line_atoms[n_plot])\n",
    "        ax1.plot(data_rism1[:, 0], data_rism1[:, n_plot], color='black', linestyle='solid')\n",
    "\n",
    "    plt.show()"
   ]
  },
  {
   "cell_type": "code",
   "execution_count": null,
   "id": "1c87380f",
   "metadata": {},
   "outputs": [],
   "source": []
  }
 ],
 "metadata": {
  "interpreter": {
   "hash": "aee8b7b246df8f9039afb4144a1f6fd8d2ca17a180786b69acc140d282b71a49"
  },
  "kernelspec": {
   "display_name": "Python 3 (ipykernel)",
   "language": "python",
   "name": "python3"
  },
  "language_info": {
   "codemirror_mode": {
    "name": "ipython",
    "version": 3
   },
   "file_extension": ".py",
   "mimetype": "text/x-python",
   "name": "python",
   "nbconvert_exporter": "python",
   "pygments_lexer": "ipython3",
   "version": "3.9.7"
  }
 },
 "nbformat": 4,
 "nbformat_minor": 5
}
